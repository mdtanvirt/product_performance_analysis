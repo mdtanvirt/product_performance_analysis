{
 "cells": [
  {
   "cell_type": "code",
   "execution_count": 1,
   "id": "9d26635c",
   "metadata": {},
   "outputs": [
    {
     "data": {
      "text/html": [
       "\n",
       "            <div>\n",
       "                <ins><a href=\"https://ydata.ai/register\">Upgrade to ydata-sdk</a></ins>\n",
       "                <p>\n",
       "                    Improve your data and profiling with ydata-sdk, featuring data quality scoring, redundancy detection, outlier identification, text validation, and synthetic data generation.\n",
       "                </p>\n",
       "            </div>\n",
       "            "
      ],
      "text/plain": [
       "<IPython.core.display.HTML object>"
      ]
     },
     "metadata": {},
     "output_type": "display_data"
    }
   ],
   "source": [
    "# Install required libraries\n",
    "# pip install polars ydata-profiling duckdb\n",
    "# 1st step: ingestion profiling\n",
    "\n",
    "import polars as pl\n",
    "import pandas as pd\n",
    "from ydata_profiling import ProfileReport"
   ]
  },
  {
   "cell_type": "code",
   "execution_count": 2,
   "id": "88e6d8f3",
   "metadata": {},
   "outputs": [],
   "source": [
    "# Load all CSV files\n",
    "\n",
    "sales = pl.read_csv(\"data/sales.csv\")\n",
    "vendor_invoice = pl.read_csv(\"data/vendor_invoice.csv\")\n",
    "purchase = pl.read_csv(\"data/purchases.csv\")\n",
    "purchase_price = pl.read_csv(\"data/purchase_prices.csv\", infer_schema_length=None)\n",
    "begin_inventory = pl.read_csv(\"data/begin_inventory.csv\")\n",
    "end_inventory = pl.read_csv(\"data/end_inventory.csv\")"
   ]
  },
  {
   "cell_type": "code",
   "execution_count": 3,
   "id": "674b0573",
   "metadata": {},
   "outputs": [
    {
     "name": "stdout",
     "output_type": "stream",
     "text": [
      "Sales Shape:  (12825363, 14)\n",
      "Vendor_Invoice:  (5543, 10)\n",
      "Purchase:  (2372474, 16)\n",
      "Purchase_price:  (12261, 9)\n",
      "Begin_Inventory:  (206529, 9)\n",
      "End_Inventory:  (224489, 9)\n"
     ]
    }
   ],
   "source": [
    "# 2nd step: Quick overview\n",
    "print(\"Sales Shape: \", sales.shape)\n",
    "print(\"Vendor_Invoice: \", vendor_invoice.shape)\n",
    "print(\"Purchase: \", purchase.shape)\n",
    "print(\"Purchase_price: \", purchase_price.shape)\n",
    "print(\"Begin_Inventory: \", begin_inventory.shape)\n",
    "print(\"End_Inventory: \", end_inventory.shape)"
   ]
  },
  {
   "cell_type": "code",
   "execution_count": 4,
   "id": "e16a1bdb",
   "metadata": {},
   "outputs": [
    {
     "name": "stdout",
     "output_type": "stream",
     "text": [
      "Sales Head: \n",
      "shape: (5, 14)\n",
      "┌─────────────┬───────┬───────┬─────────────┬───┬─────────────┬───────────┬──────────┬─────────────┐\n",
      "│ InventoryId ┆ Store ┆ Brand ┆ Description ┆ … ┆ Classificat ┆ ExciseTax ┆ VendorNo ┆ VendorName  │\n",
      "│ ---         ┆ ---   ┆ ---   ┆ ---         ┆   ┆ ion         ┆ ---       ┆ ---      ┆ ---         │\n",
      "│ str         ┆ i64   ┆ i64   ┆ str         ┆   ┆ ---         ┆ f64       ┆ i64      ┆ str         │\n",
      "│             ┆       ┆       ┆             ┆   ┆ i64         ┆           ┆          ┆             │\n",
      "╞═════════════╪═══════╪═══════╪═════════════╪═══╪═════════════╪═══════════╪══════════╪═════════════╡\n",
      "│ 1_HARDERSFI ┆ 1     ┆ 1004  ┆ Jim Beam    ┆ … ┆ 1           ┆ 0.79      ┆ 12546    ┆ JIM BEAM    │\n",
      "│ ELD_1004    ┆       ┆       ┆ w/2 Rocks   ┆   ┆             ┆           ┆          ┆ BRANDS      │\n",
      "│             ┆       ┆       ┆ Glasses     ┆   ┆             ┆           ┆          ┆ COMPANY     │\n",
      "│ 1_HARDERSFI ┆ 1     ┆ 1004  ┆ Jim Beam    ┆ … ┆ 1           ┆ 1.57      ┆ 12546    ┆ JIM BEAM    │\n",
      "│ ELD_1004    ┆       ┆       ┆ w/2 Rocks   ┆   ┆             ┆           ┆          ┆ BRANDS      │\n",
      "│             ┆       ┆       ┆ Glasses     ┆   ┆             ┆           ┆          ┆ COMPANY     │\n",
      "│ 1_HARDERSFI ┆ 1     ┆ 1004  ┆ Jim Beam    ┆ … ┆ 1           ┆ 0.79      ┆ 12546    ┆ JIM BEAM    │\n",
      "│ ELD_1004    ┆       ┆       ┆ w/2 Rocks   ┆   ┆             ┆           ┆          ┆ BRANDS      │\n",
      "│             ┆       ┆       ┆ Glasses     ┆   ┆             ┆           ┆          ┆ COMPANY     │\n",
      "│ 1_HARDERSFI ┆ 1     ┆ 1004  ┆ Jim Beam    ┆ … ┆ 1           ┆ 0.79      ┆ 12546    ┆ JIM BEAM    │\n",
      "│ ELD_1004    ┆       ┆       ┆ w/2 Rocks   ┆   ┆             ┆           ┆          ┆ BRANDS      │\n",
      "│             ┆       ┆       ┆ Glasses     ┆   ┆             ┆           ┆          ┆ COMPANY     │\n",
      "│ 1_HARDERSFI ┆ 1     ┆ 1005  ┆ Maker's     ┆ … ┆ 1           ┆ 0.79      ┆ 12546    ┆ JIM BEAM    │\n",
      "│ ELD_1005    ┆       ┆       ┆ Mark Combo  ┆   ┆             ┆           ┆          ┆ BRANDS      │\n",
      "│             ┆       ┆       ┆ Pack        ┆   ┆             ┆           ┆          ┆ COMPANY     │\n",
      "└─────────────┴───────┴───────┴─────────────┴───┴─────────────┴───────────┴──────────┴─────────────┘\n"
     ]
    }
   ],
   "source": [
    "print(\"Sales Head: \")\n",
    "print(sales.head())"
   ]
  },
  {
   "cell_type": "code",
   "execution_count": 5,
   "id": "6d885e91",
   "metadata": {},
   "outputs": [
    {
     "name": "stdout",
     "output_type": "stream",
     "text": [
      "Vendor_invoice Head: \n",
      "shape: (5, 10)\n",
      "┌─────────────┬────────────┬────────────┬──────────┬───┬──────────┬───────────┬─────────┬──────────┐\n",
      "│ VendorNumbe ┆ VendorName ┆ InvoiceDat ┆ PONumber ┆ … ┆ Quantity ┆ Dollars   ┆ Freight ┆ Approval │\n",
      "│ r           ┆ ---        ┆ e          ┆ ---      ┆   ┆ ---      ┆ ---       ┆ ---     ┆ ---      │\n",
      "│ ---         ┆ str        ┆ ---        ┆ i64      ┆   ┆ i64      ┆ f64       ┆ f64     ┆ str      │\n",
      "│ i64         ┆            ┆ str        ┆          ┆   ┆          ┆           ┆         ┆          │\n",
      "╞═════════════╪════════════╪════════════╪══════════╪═══╪══════════╪═══════════╪═════════╪══════════╡\n",
      "│ 105         ┆ ALTAMAR    ┆ 2024-01-04 ┆ 8124     ┆ … ┆ 6        ┆ 214.26    ┆ 3.47    ┆ null     │\n",
      "│             ┆ BRANDS LLC ┆            ┆          ┆   ┆          ┆           ┆         ┆          │\n",
      "│ 4466        ┆ AMERICAN   ┆ 2024-01-07 ┆ 8137     ┆ … ┆ 15       ┆ 140.55    ┆ 8.57    ┆ null     │\n",
      "│             ┆ VINTAGE    ┆            ┆          ┆   ┆          ┆           ┆         ┆          │\n",
      "│             ┆ BEVERAGE   ┆            ┆          ┆   ┆          ┆           ┆         ┆          │\n",
      "│ 388         ┆ ATLANTIC   ┆ 2024-01-09 ┆ 8169     ┆ … ┆ 5        ┆ 106.6     ┆ 4.61    ┆ null     │\n",
      "│             ┆ IMPORTING  ┆            ┆          ┆   ┆          ┆           ┆         ┆          │\n",
      "│             ┆ COMPANY    ┆            ┆          ┆   ┆          ┆           ┆         ┆          │\n",
      "│ 480         ┆ BACARDI    ┆ 2024-01-12 ┆ 8106     ┆ … ┆ 10100    ┆ 137483.78 ┆ 2935.2  ┆ null     │\n",
      "│             ┆ USA INC    ┆            ┆          ┆   ┆          ┆           ┆         ┆          │\n",
      "│ 516         ┆ BANFI      ┆ 2024-01-07 ┆ 8170     ┆ … ┆ 1935     ┆ 15527.25  ┆ 429.2   ┆ null     │\n",
      "│             ┆ PRODUCTS   ┆            ┆          ┆   ┆          ┆           ┆         ┆          │\n",
      "│             ┆ CORP       ┆            ┆          ┆   ┆          ┆           ┆         ┆          │\n",
      "└─────────────┴────────────┴────────────┴──────────┴───┴──────────┴───────────┴─────────┴──────────┘\n"
     ]
    }
   ],
   "source": [
    "print(\"Vendor_invoice Head: \")\n",
    "print(vendor_invoice.head())"
   ]
  },
  {
   "cell_type": "code",
   "execution_count": 6,
   "id": "c0c1b40e",
   "metadata": {},
   "outputs": [
    {
     "name": "stdout",
     "output_type": "stream",
     "text": [
      "Purchase Head: \n",
      "shape: (5, 16)\n",
      "┌──────────────┬───────┬───────┬──────────────┬───┬─────────────┬──────────┬─────────┬─────────────┐\n",
      "│ InventoryId  ┆ Store ┆ Brand ┆ Description  ┆ … ┆ PurchasePri ┆ Quantity ┆ Dollars ┆ Classificat │\n",
      "│ ---          ┆ ---   ┆ ---   ┆ ---          ┆   ┆ ce          ┆ ---      ┆ ---     ┆ ion         │\n",
      "│ str          ┆ i64   ┆ i64   ┆ str          ┆   ┆ ---         ┆ i64      ┆ f64     ┆ ---         │\n",
      "│              ┆       ┆       ┆              ┆   ┆ f64         ┆          ┆         ┆ i64         │\n",
      "╞══════════════╪═══════╪═══════╪══════════════╪═══╪═════════════╪══════════╪═════════╪═════════════╡\n",
      "│ 69_MOUNTMEND ┆ 69    ┆ 8412  ┆ Tequila Ocho ┆ … ┆ 35.71       ┆ 6        ┆ 214.26  ┆ 1           │\n",
      "│ _8412        ┆       ┆       ┆ Plata Fresno ┆   ┆             ┆          ┆         ┆             │\n",
      "│ 30_CULCHETH_ ┆ 30    ┆ 5255  ┆ TGI Fridays  ┆ … ┆ 9.35        ┆ 4        ┆ 37.4    ┆ 1           │\n",
      "│ 5255         ┆       ┆       ┆ Ultimte      ┆   ┆             ┆          ┆         ┆             │\n",
      "│              ┆       ┆       ┆ Mudslide     ┆   ┆             ┆          ┆         ┆             │\n",
      "│ 34_PITMERDEN ┆ 34    ┆ 5215  ┆ TGI Fridays  ┆ … ┆ 9.41        ┆ 5        ┆ 47.05   ┆ 1           │\n",
      "│ _5215        ┆       ┆       ┆ Long Island  ┆   ┆             ┆          ┆         ┆             │\n",
      "│              ┆       ┆       ┆ Iced         ┆   ┆             ┆          ┆         ┆             │\n",
      "│ 1_HARDERSFIE ┆ 1     ┆ 5255  ┆ TGI Fridays  ┆ … ┆ 9.35        ┆ 6        ┆ 56.1    ┆ 1           │\n",
      "│ LD_5255      ┆       ┆       ┆ Ultimte      ┆   ┆             ┆          ┆         ┆             │\n",
      "│              ┆       ┆       ┆ Mudslide     ┆   ┆             ┆          ┆         ┆             │\n",
      "│ 76_DONCASTER ┆ 76    ┆ 2034  ┆ Glendalough  ┆ … ┆ 21.32       ┆ 5        ┆ 106.6   ┆ 1           │\n",
      "│ _2034        ┆       ┆       ┆ Double       ┆   ┆             ┆          ┆         ┆             │\n",
      "│              ┆       ┆       ┆ Barrel       ┆   ┆             ┆          ┆         ┆             │\n",
      "└──────────────┴───────┴───────┴──────────────┴───┴─────────────┴──────────┴─────────┴─────────────┘\n"
     ]
    }
   ],
   "source": [
    "print(\"Purchase Head: \")\n",
    "print(purchase.head())"
   ]
  },
  {
   "cell_type": "code",
   "execution_count": 7,
   "id": "ed60f77a",
   "metadata": {},
   "outputs": [
    {
     "name": "stdout",
     "output_type": "stream",
     "text": [
      "Purchase_Price Head: \n",
      "shape: (5, 9)\n",
      "┌───────┬──────────────┬───────┬───────┬───┬─────────────┬─────────────┬─────────────┬─────────────┐\n",
      "│ Brand ┆ Description  ┆ Price ┆ Size  ┆ … ┆ Classificat ┆ PurchasePri ┆ VendorNumbe ┆ VendorName  │\n",
      "│ ---   ┆ ---          ┆ ---   ┆ ---   ┆   ┆ ion         ┆ ce          ┆ r           ┆ ---         │\n",
      "│ i64   ┆ str          ┆ f64   ┆ str   ┆   ┆ ---         ┆ ---         ┆ ---         ┆ str         │\n",
      "│       ┆              ┆       ┆       ┆   ┆ i64         ┆ f64         ┆ i64         ┆             │\n",
      "╞═══════╪══════════════╪═══════╪═══════╪═══╪═════════════╪═════════════╪═════════════╪═════════════╡\n",
      "│ 58    ┆ Gekkeikan    ┆ 12.99 ┆ 750mL ┆ … ┆ 1           ┆ 9.28        ┆ 8320        ┆ SHAW ROSS   │\n",
      "│       ┆ Black & Gold ┆       ┆       ┆   ┆             ┆             ┆             ┆ INT L IMP   │\n",
      "│       ┆ Sake         ┆       ┆       ┆   ┆             ┆             ┆             ┆ LTD         │\n",
      "│ 62    ┆ Herradura    ┆ 36.99 ┆ 750mL ┆ … ┆ 1           ┆ 28.67       ┆ 1128        ┆ BROWN-FORMA │\n",
      "│       ┆ Silver       ┆       ┆       ┆   ┆             ┆             ┆             ┆ N CORP      │\n",
      "│       ┆ Tequila      ┆       ┆       ┆   ┆             ┆             ┆             ┆             │\n",
      "│ 63    ┆ Herradura    ┆ 38.99 ┆ 750mL ┆ … ┆ 1           ┆ 30.46       ┆ 1128        ┆ BROWN-FORMA │\n",
      "│       ┆ Reposado     ┆       ┆       ┆   ┆             ┆             ┆             ┆ N CORP      │\n",
      "│       ┆ Tequila      ┆       ┆       ┆   ┆             ┆             ┆             ┆             │\n",
      "│ 72    ┆ No. 3 London ┆ 34.99 ┆ 750mL ┆ … ┆ 1           ┆ 26.11       ┆ 9165        ┆ ULTRA       │\n",
      "│       ┆ Dry Gin      ┆       ┆       ┆   ┆             ┆             ┆             ┆ BEVERAGE    │\n",
      "│       ┆              ┆       ┆       ┆   ┆             ┆             ┆             ┆ COMPANY LLP │\n",
      "│ 75    ┆ Three Olives ┆ 14.99 ┆ 750mL ┆ … ┆ 1           ┆ 10.94       ┆ 7245        ┆ PROXIMO     │\n",
      "│       ┆ Tomato Vodka ┆       ┆       ┆   ┆             ┆             ┆             ┆ SPIRITS     │\n",
      "│       ┆              ┆       ┆       ┆   ┆             ┆             ┆             ┆ INC.        │\n",
      "└───────┴──────────────┴───────┴───────┴───┴─────────────┴─────────────┴─────────────┴─────────────┘\n"
     ]
    }
   ],
   "source": [
    "print(\"Purchase_Price Head: \")\n",
    "print(purchase_price.head())"
   ]
  },
  {
   "cell_type": "code",
   "execution_count": 8,
   "id": "0663f681",
   "metadata": {},
   "outputs": [
    {
     "name": "stdout",
     "output_type": "stream",
     "text": [
      "Begin_Inventory Head: \n",
      "shape: (5, 9)\n",
      "┌───────────────────┬───────┬──────────────┬───────┬───┬───────┬────────┬───────┬────────────┐\n",
      "│ InventoryId       ┆ Store ┆ City         ┆ Brand ┆ … ┆ Size  ┆ onHand ┆ Price ┆ startDate  │\n",
      "│ ---               ┆ ---   ┆ ---          ┆ ---   ┆   ┆ ---   ┆ ---    ┆ ---   ┆ ---        │\n",
      "│ str               ┆ i64   ┆ str          ┆ i64   ┆   ┆ str   ┆ i64    ┆ f64   ┆ str        │\n",
      "╞═══════════════════╪═══════╪══════════════╪═══════╪═══╪═══════╪════════╪═══════╪════════════╡\n",
      "│ 1_HARDERSFIELD_58 ┆ 1     ┆ HARDERSFIELD ┆ 58    ┆ … ┆ 750mL ┆ 8      ┆ 12.99 ┆ 2024-01-01 │\n",
      "│ 1_HARDERSFIELD_60 ┆ 1     ┆ HARDERSFIELD ┆ 60    ┆ … ┆ 750mL ┆ 7      ┆ 10.99 ┆ 2024-01-01 │\n",
      "│ 1_HARDERSFIELD_62 ┆ 1     ┆ HARDERSFIELD ┆ 62    ┆ … ┆ 750mL ┆ 6      ┆ 36.99 ┆ 2024-01-01 │\n",
      "│ 1_HARDERSFIELD_63 ┆ 1     ┆ HARDERSFIELD ┆ 63    ┆ … ┆ 750mL ┆ 3      ┆ 38.99 ┆ 2024-01-01 │\n",
      "│ 1_HARDERSFIELD_72 ┆ 1     ┆ HARDERSFIELD ┆ 72    ┆ … ┆ 750mL ┆ 6      ┆ 34.99 ┆ 2024-01-01 │\n",
      "└───────────────────┴───────┴──────────────┴───────┴───┴───────┴────────┴───────┴────────────┘\n"
     ]
    }
   ],
   "source": [
    "print(\"Begin_Inventory Head: \")\n",
    "print(begin_inventory.head())"
   ]
  },
  {
   "cell_type": "code",
   "execution_count": 9,
   "id": "600f45a9",
   "metadata": {},
   "outputs": [
    {
     "name": "stdout",
     "output_type": "stream",
     "text": [
      "End_Inventory Head: \n",
      "shape: (5, 9)\n",
      "┌───────────────────┬───────┬──────────────┬───────┬───┬───────┬────────┬───────┬────────────┐\n",
      "│ InventoryId       ┆ Store ┆ City         ┆ Brand ┆ … ┆ Size  ┆ onHand ┆ Price ┆ endDate    │\n",
      "│ ---               ┆ ---   ┆ ---          ┆ ---   ┆   ┆ ---   ┆ ---    ┆ ---   ┆ ---        │\n",
      "│ str               ┆ i64   ┆ str          ┆ i64   ┆   ┆ str   ┆ i64    ┆ f64   ┆ str        │\n",
      "╞═══════════════════╪═══════╪══════════════╪═══════╪═══╪═══════╪════════╪═══════╪════════════╡\n",
      "│ 1_HARDERSFIELD_58 ┆ 1     ┆ HARDERSFIELD ┆ 58    ┆ … ┆ 750mL ┆ 11     ┆ 12.99 ┆ 2024-12-31 │\n",
      "│ 1_HARDERSFIELD_62 ┆ 1     ┆ HARDERSFIELD ┆ 62    ┆ … ┆ 750mL ┆ 7      ┆ 36.99 ┆ 2024-12-31 │\n",
      "│ 1_HARDERSFIELD_63 ┆ 1     ┆ HARDERSFIELD ┆ 63    ┆ … ┆ 750mL ┆ 7      ┆ 38.99 ┆ 2024-12-31 │\n",
      "│ 1_HARDERSFIELD_72 ┆ 1     ┆ HARDERSFIELD ┆ 72    ┆ … ┆ 750mL ┆ 4      ┆ 34.99 ┆ 2024-12-31 │\n",
      "│ 1_HARDERSFIELD_75 ┆ 1     ┆ HARDERSFIELD ┆ 75    ┆ … ┆ 750mL ┆ 7      ┆ 14.99 ┆ 2024-12-31 │\n",
      "└───────────────────┴───────┴──────────────┴───────┴───┴───────┴────────┴───────┴────────────┘\n"
     ]
    }
   ],
   "source": [
    "print(\"End_Inventory Head: \")\n",
    "print(end_inventory.head())"
   ]
  },
  {
   "cell_type": "code",
   "execution_count": 10,
   "id": "cb243c77",
   "metadata": {},
   "outputs": [],
   "source": [
    "# 3rd step: Profiling\n",
    "# Convert Polars -> Pandas (Profiling works on pandas)\n",
    "\n",
    "sales_pd = sales.to_pandas()\n",
    "vendor_invoice_pd = vendor_invoice.to_pandas()\n",
    "purchase_pd = purchase.to_pandas()\n",
    "purchase_price_pd = purchase_price.to_pandas()\n",
    "begin_inventory_pd = begin_inventory.to_pandas()\n",
    "end_inventory_pd = end_inventory.to_pandas()"
   ]
  },
  {
   "cell_type": "code",
   "execution_count": 11,
   "id": "4b0b0f2e",
   "metadata": {},
   "outputs": [
    {
     "name": "stderr",
     "output_type": "stream",
     "text": [
      "d:\\Power-BI\\Projects\\Product_Vendor_Performance\\product_performance_analysis\\env\\Lib\\site-packages\\ydata_profiling\\utils\\dataframe.py:137: SettingWithCopyWarning: \n",
      "A value is trying to be set on a copy of a slice from a DataFrame\n",
      "\n",
      "See the caveats in the documentation: https://pandas.pydata.org/pandas-docs/stable/user_guide/indexing.html#returning-a-view-versus-a-copy\n",
      "  df.rename(columns={\"index\": \"df_index\"}, inplace=True)\n"
     ]
    },
    {
     "data": {
      "application/vnd.jupyter.widget-view+json": {
       "model_id": "977516d72ec54ab693d1f15a2b4719ff",
       "version_major": 2,
       "version_minor": 0
      },
      "text/plain": [
       "Summarize dataset:   0%|          | 0/5 [00:00<?, ?it/s]"
      ]
     },
     "metadata": {},
     "output_type": "display_data"
    },
    {
     "name": "stderr",
     "output_type": "stream",
     "text": [
      "100%|██████████| 14/14 [00:00<00:00, 193.30it/s]\n"
     ]
    },
    {
     "data": {
      "application/vnd.jupyter.widget-view+json": {
       "model_id": "a4138a505c7d46799554a48ece52da29",
       "version_major": 2,
       "version_minor": 0
      },
      "text/plain": [
       "Generate report structure:   0%|          | 0/1 [00:00<?, ?it/s]"
      ]
     },
     "metadata": {},
     "output_type": "display_data"
    },
    {
     "data": {
      "application/vnd.jupyter.widget-view+json": {
       "model_id": "2253076959c14a2289cde6e2ff305bf1",
       "version_major": 2,
       "version_minor": 0
      },
      "text/plain": [
       "Render HTML:   0%|          | 0/1 [00:00<?, ?it/s]"
      ]
     },
     "metadata": {},
     "output_type": "display_data"
    },
    {
     "data": {
      "application/vnd.jupyter.widget-view+json": {
       "model_id": "083199eb15d14f1d90ea5418b9ba4271",
       "version_major": 2,
       "version_minor": 0
      },
      "text/plain": [
       "Export report to file:   0%|          | 0/1 [00:00<?, ?it/s]"
      ]
     },
     "metadata": {},
     "output_type": "display_data"
    },
    {
     "name": "stdout",
     "output_type": "stream",
     "text": [
      "Sales profiling report generated successfully\n"
     ]
    }
   ],
   "source": [
    "# Create profile report\n",
    "# Take 500 rows of total rows\n",
    "sales_sample_pr = sales_pd.head(500)\n",
    "profile_sales = ProfileReport(sales_sample_pr, title=\"Sales Data Profiling Report\", explorative=True)\n",
    "profile_sales.to_file(\"sales_profiling_report.html\")\n",
    "\n",
    "print(\"Sales profiling report generated successfully\")"
   ]
  },
  {
   "cell_type": "code",
   "execution_count": 12,
   "id": "4a4dd0d9",
   "metadata": {},
   "outputs": [
    {
     "data": {
      "application/vnd.jupyter.widget-view+json": {
       "model_id": "01a0431d90cb4d77b9b24e6e51b455e7",
       "version_major": 2,
       "version_minor": 0
      },
      "text/plain": [
       "Summarize dataset:   0%|          | 0/5 [00:00<?, ?it/s]"
      ]
     },
     "metadata": {},
     "output_type": "display_data"
    },
    {
     "name": "stderr",
     "output_type": "stream",
     "text": [
      "100%|██████████| 16/16 [00:46<00:00,  2.88s/it]\n"
     ]
    },
    {
     "data": {
      "application/vnd.jupyter.widget-view+json": {
       "model_id": "6bea15d211494afbb9757e57858b34d9",
       "version_major": 2,
       "version_minor": 0
      },
      "text/plain": [
       "Generate report structure:   0%|          | 0/1 [00:00<?, ?it/s]"
      ]
     },
     "metadata": {},
     "output_type": "display_data"
    },
    {
     "data": {
      "application/vnd.jupyter.widget-view+json": {
       "model_id": "ce37123e328d47f99748b97a23f1b93b",
       "version_major": 2,
       "version_minor": 0
      },
      "text/plain": [
       "Render HTML:   0%|          | 0/1 [00:00<?, ?it/s]"
      ]
     },
     "metadata": {},
     "output_type": "display_data"
    },
    {
     "data": {
      "application/vnd.jupyter.widget-view+json": {
       "model_id": "729eeecd73c2487e82dad43ca59986de",
       "version_major": 2,
       "version_minor": 0
      },
      "text/plain": [
       "Export report to file:   0%|          | 0/1 [00:00<?, ?it/s]"
      ]
     },
     "metadata": {},
     "output_type": "display_data"
    },
    {
     "name": "stdout",
     "output_type": "stream",
     "text": [
      "Purchase profiling report generated successfully\n"
     ]
    }
   ],
   "source": [
    "# Create profile report - Purchase\n",
    "purchase_pr = purchase_pd.head(500)\n",
    "profile_purchase = ProfileReport(purchase_pd, title=\"Purchase Data Profiling Report\", explorative=True)\n",
    "profile_purchase.to_file(\"purchase_profiling_report.html\")\n",
    "\n",
    "print(\"Purchase profiling report generated successfully\")"
   ]
  },
  {
   "cell_type": "code",
   "execution_count": 13,
   "id": "4a651769",
   "metadata": {},
   "outputs": [
    {
     "data": {
      "application/vnd.jupyter.widget-view+json": {
       "model_id": "22c9a925626149d990f3bf5a686896bb",
       "version_major": 2,
       "version_minor": 0
      },
      "text/plain": [
       "Summarize dataset:   0%|          | 0/5 [00:00<?, ?it/s]"
      ]
     },
     "metadata": {},
     "output_type": "display_data"
    },
    {
     "name": "stderr",
     "output_type": "stream",
     "text": [
      "100%|██████████| 9/9 [00:00<00:00, 15.19it/s]\n"
     ]
    },
    {
     "data": {
      "application/vnd.jupyter.widget-view+json": {
       "model_id": "fa403600031a4d7c8497b8007b7e1a8c",
       "version_major": 2,
       "version_minor": 0
      },
      "text/plain": [
       "Generate report structure:   0%|          | 0/1 [00:00<?, ?it/s]"
      ]
     },
     "metadata": {},
     "output_type": "display_data"
    },
    {
     "data": {
      "application/vnd.jupyter.widget-view+json": {
       "model_id": "c5e8972a9f02469c9b9baccd28daa6ce",
       "version_major": 2,
       "version_minor": 0
      },
      "text/plain": [
       "Render HTML:   0%|          | 0/1 [00:00<?, ?it/s]"
      ]
     },
     "metadata": {},
     "output_type": "display_data"
    },
    {
     "data": {
      "application/vnd.jupyter.widget-view+json": {
       "model_id": "44fe1fce50594237a58dfae1e2301abb",
       "version_major": 2,
       "version_minor": 0
      },
      "text/plain": [
       "Export report to file:   0%|          | 0/1 [00:00<?, ?it/s]"
      ]
     },
     "metadata": {},
     "output_type": "display_data"
    },
    {
     "name": "stdout",
     "output_type": "stream",
     "text": [
      "Purchase Price profiling report generated successfully\n"
     ]
    }
   ],
   "source": [
    "# Create profile report - Purchase price\n",
    "purchase_price_pr = purchase_price_pd.head(500)\n",
    "profile_purchase_price = ProfileReport(purchase_price_pd, title=\"Purchase Price Data Profiling Report\", explorative=True)\n",
    "profile_purchase_price.to_file(\"purchase_price_profiling_report.html\")\n",
    "\n",
    "print(\"Purchase Price profiling report generated successfully\")"
   ]
  },
  {
   "cell_type": "code",
   "execution_count": 14,
   "id": "ce3d9a19",
   "metadata": {},
   "outputs": [
    {
     "data": {
      "application/vnd.jupyter.widget-view+json": {
       "model_id": "8cacda760032454c946af3776e459109",
       "version_major": 2,
       "version_minor": 0
      },
      "text/plain": [
       "Summarize dataset:   0%|          | 0/5 [00:00<?, ?it/s]"
      ]
     },
     "metadata": {},
     "output_type": "display_data"
    },
    {
     "name": "stderr",
     "output_type": "stream",
     "text": [
      "100%|██████████| 9/9 [00:04<00:00,  1.91it/s]\n"
     ]
    },
    {
     "data": {
      "application/vnd.jupyter.widget-view+json": {
       "model_id": "2ce97885bc9241988ef9064759d999a4",
       "version_major": 2,
       "version_minor": 0
      },
      "text/plain": [
       "Generate report structure:   0%|          | 0/1 [00:00<?, ?it/s]"
      ]
     },
     "metadata": {},
     "output_type": "display_data"
    },
    {
     "data": {
      "application/vnd.jupyter.widget-view+json": {
       "model_id": "0cd96d67d3d24b4f97131ab963a8d142",
       "version_major": 2,
       "version_minor": 0
      },
      "text/plain": [
       "Render HTML:   0%|          | 0/1 [00:00<?, ?it/s]"
      ]
     },
     "metadata": {},
     "output_type": "display_data"
    },
    {
     "data": {
      "application/vnd.jupyter.widget-view+json": {
       "model_id": "5a02789cd32e4cca8a63999adfe9eba7",
       "version_major": 2,
       "version_minor": 0
      },
      "text/plain": [
       "Export report to file:   0%|          | 0/1 [00:00<?, ?it/s]"
      ]
     },
     "metadata": {},
     "output_type": "display_data"
    },
    {
     "name": "stdout",
     "output_type": "stream",
     "text": [
      "Purchase Price profiling report generated successfully\n"
     ]
    }
   ],
   "source": [
    "# Create profile report - begin inventory\n",
    "begin_inventory_pr = begin_inventory_pd.head(500)\n",
    "profile_begin_inventory = ProfileReport(begin_inventory_pd, title=\"Begin inventory Price Data Profiling Report\", explorative=True)\n",
    "profile_begin_inventory.to_file(\"begin_inventory.html\")\n",
    "\n",
    "print(\"Purchase Price profiling report generated successfully\")"
   ]
  },
  {
   "cell_type": "code",
   "execution_count": 15,
   "id": "2b455040",
   "metadata": {},
   "outputs": [
    {
     "data": {
      "application/vnd.jupyter.widget-view+json": {
       "model_id": "487f234aaf2c4acfb14f5db64cb5ed2f",
       "version_major": 2,
       "version_minor": 0
      },
      "text/plain": [
       "Summarize dataset:   0%|          | 0/5 [00:00<?, ?it/s]"
      ]
     },
     "metadata": {},
     "output_type": "display_data"
    },
    {
     "name": "stderr",
     "output_type": "stream",
     "text": [
      "100%|██████████| 9/9 [00:03<00:00,  2.40it/s]\n"
     ]
    },
    {
     "data": {
      "application/vnd.jupyter.widget-view+json": {
       "model_id": "866268a3aa5b44dcbbc54bb86fb6098d",
       "version_major": 2,
       "version_minor": 0
      },
      "text/plain": [
       "Generate report structure:   0%|          | 0/1 [00:00<?, ?it/s]"
      ]
     },
     "metadata": {},
     "output_type": "display_data"
    },
    {
     "data": {
      "application/vnd.jupyter.widget-view+json": {
       "model_id": "d27172ad300a4d249e7c2b1192dbd898",
       "version_major": 2,
       "version_minor": 0
      },
      "text/plain": [
       "Render HTML:   0%|          | 0/1 [00:00<?, ?it/s]"
      ]
     },
     "metadata": {},
     "output_type": "display_data"
    },
    {
     "data": {
      "application/vnd.jupyter.widget-view+json": {
       "model_id": "e2338f9f76a84ee6bfcac9b94ec02b59",
       "version_major": 2,
       "version_minor": 0
      },
      "text/plain": [
       "Export report to file:   0%|          | 0/1 [00:00<?, ?it/s]"
      ]
     },
     "metadata": {},
     "output_type": "display_data"
    },
    {
     "name": "stdout",
     "output_type": "stream",
     "text": [
      "Purchase Price profiling report generated successfully\n"
     ]
    }
   ],
   "source": [
    "# Create profile report - end inventory\n",
    "end_inventory_pr = end_inventory_pd.head(500)\n",
    "profile_end_inventory = ProfileReport(end_inventory_pd, title=\"End inventory Price Data Profiling Report\", explorative=True)\n",
    "profile_end_inventory.to_file(\"end_inventory.html\")\n",
    "\n",
    "print(\"Purchase Price profiling report generated successfully\")"
   ]
  },
  {
   "cell_type": "code",
   "execution_count": 16,
   "id": "b0ebb0b5",
   "metadata": {},
   "outputs": [
    {
     "data": {
      "application/vnd.jupyter.widget-view+json": {
       "model_id": "cff456f8164045f1b8c237be75852a35",
       "version_major": 2,
       "version_minor": 0
      },
      "text/plain": [
       "Summarize dataset:   0%|          | 0/5 [00:00<?, ?it/s]"
      ]
     },
     "metadata": {},
     "output_type": "display_data"
    },
    {
     "name": "stderr",
     "output_type": "stream",
     "text": [
      "100%|██████████| 10/10 [00:00<00:00, 12.38it/s]\n"
     ]
    },
    {
     "data": {
      "application/vnd.jupyter.widget-view+json": {
       "model_id": "ef087423b8ff43f7ba979216db38a211",
       "version_major": 2,
       "version_minor": 0
      },
      "text/plain": [
       "Generate report structure:   0%|          | 0/1 [00:00<?, ?it/s]"
      ]
     },
     "metadata": {},
     "output_type": "display_data"
    },
    {
     "data": {
      "application/vnd.jupyter.widget-view+json": {
       "model_id": "748d75b3917047a5844052ec90bf5f37",
       "version_major": 2,
       "version_minor": 0
      },
      "text/plain": [
       "Render HTML:   0%|          | 0/1 [00:00<?, ?it/s]"
      ]
     },
     "metadata": {},
     "output_type": "display_data"
    },
    {
     "data": {
      "application/vnd.jupyter.widget-view+json": {
       "model_id": "e469aef2cef84dc0a111631955581321",
       "version_major": 2,
       "version_minor": 0
      },
      "text/plain": [
       "Export report to file:   0%|          | 0/1 [00:00<?, ?it/s]"
      ]
     },
     "metadata": {},
     "output_type": "display_data"
    },
    {
     "name": "stdout",
     "output_type": "stream",
     "text": [
      "profile_vendor_invoice profiling report generated successfully\n"
     ]
    }
   ],
   "source": [
    "# Create profile report - Vendor Invoice\n",
    "vendor_invoice_pr = vendor_invoice_pd.head(500)\n",
    "profile_vendor_invoice = ProfileReport(vendor_invoice_pd, title=\"End inventory Price Data Profiling Report\", explorative=True)\n",
    "profile_vendor_invoice.to_file(\"profile_vendor_invoice.html\")\n",
    "\n",
    "print(\"profile_vendor_invoice profiling report generated successfully\")"
   ]
  },
  {
   "cell_type": "code",
   "execution_count": null,
   "id": "a1f530cb",
   "metadata": {},
   "outputs": [],
   "source": []
  }
 ],
 "metadata": {
  "kernelspec": {
   "display_name": "env",
   "language": "python",
   "name": "python3"
  },
  "language_info": {
   "codemirror_mode": {
    "name": "ipython",
    "version": 3
   },
   "file_extension": ".py",
   "mimetype": "text/x-python",
   "name": "python",
   "nbconvert_exporter": "python",
   "pygments_lexer": "ipython3",
   "version": "3.12.10"
  }
 },
 "nbformat": 4,
 "nbformat_minor": 5
}
