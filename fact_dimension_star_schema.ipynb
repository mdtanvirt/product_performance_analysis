{
 "cells": [
  {
   "cell_type": "code",
   "execution_count": 1,
   "id": "da3e9cf1",
   "metadata": {},
   "outputs": [],
   "source": [
    "import polars as pl\n",
    "import pandas as pd\n",
    "import numpy as np\n",
    "import duckdb"
   ]
  },
  {
   "cell_type": "code",
   "execution_count": 2,
   "id": "03091de5",
   "metadata": {},
   "outputs": [],
   "source": [
    "sales = pl.read_csv(\"data/sales.csv\")\n",
    "vendor_invoice = pl.read_csv(\"data/vendor_invoice.csv\")\n",
    "purchase = pl.read_csv(\"data/purchases.csv\")\n",
    "purchase_price = pl.read_csv(\"data/purchase_prices.csv\", infer_schema_length=None)\n",
    "begin_inventory = pl.read_csv(\"data/begin_inventory.csv\")\n",
    "end_inventory = pl.read_csv(\"data/end_inventory.csv\")"
   ]
  },
  {
   "cell_type": "code",
   "execution_count": 3,
   "id": "32932aaa",
   "metadata": {},
   "outputs": [
    {
     "data": {
      "text/html": [
       "<div><style>\n",
       ".dataframe > thead > tr,\n",
       ".dataframe > tbody > tr {\n",
       "  text-align: right;\n",
       "  white-space: pre-wrap;\n",
       "}\n",
       "</style>\n",
       "<small>shape: (3, 10)</small><table border=\"1\" class=\"dataframe\"><thead><tr><th>VendorNumber</th><th>VendorName</th><th>InvoiceDate</th><th>PONumber</th><th>PODate</th><th>PayDate</th><th>Quantity</th><th>Dollars</th><th>Freight</th><th>Approval</th></tr><tr><td>i64</td><td>str</td><td>str</td><td>i64</td><td>str</td><td>str</td><td>i64</td><td>f64</td><td>f64</td><td>str</td></tr></thead><tbody><tr><td>105</td><td>&quot;ALTAMAR BRANDS LLC&nbsp;&nbsp;&nbsp;&nbsp;&nbsp;&nbsp;&nbsp;&nbsp;&nbsp;&quot;</td><td>&quot;2024-01-04&quot;</td><td>8124</td><td>&quot;2023-12-21&quot;</td><td>&quot;2024-02-16&quot;</td><td>6</td><td>214.26</td><td>3.47</td><td>null</td></tr><tr><td>4466</td><td>&quot;AMERICAN VINTAGE BEVERAGE&nbsp;&nbsp;&quot;</td><td>&quot;2024-01-07&quot;</td><td>8137</td><td>&quot;2023-12-22&quot;</td><td>&quot;2024-02-21&quot;</td><td>15</td><td>140.55</td><td>8.57</td><td>null</td></tr><tr><td>388</td><td>&quot;ATLANTIC IMPORTING COMPANY &quot;</td><td>&quot;2024-01-09&quot;</td><td>8169</td><td>&quot;2023-12-24&quot;</td><td>&quot;2024-02-16&quot;</td><td>5</td><td>106.6</td><td>4.61</td><td>null</td></tr></tbody></table></div>"
      ],
      "text/plain": [
       "shape: (3, 10)\n",
       "┌─────────────┬─────────────┬─────────────┬──────────┬───┬──────────┬─────────┬─────────┬──────────┐\n",
       "│ VendorNumbe ┆ VendorName  ┆ InvoiceDate ┆ PONumber ┆ … ┆ Quantity ┆ Dollars ┆ Freight ┆ Approval │\n",
       "│ r           ┆ ---         ┆ ---         ┆ ---      ┆   ┆ ---      ┆ ---     ┆ ---     ┆ ---      │\n",
       "│ ---         ┆ str         ┆ str         ┆ i64      ┆   ┆ i64      ┆ f64     ┆ f64     ┆ str      │\n",
       "│ i64         ┆             ┆             ┆          ┆   ┆          ┆         ┆         ┆          │\n",
       "╞═════════════╪═════════════╪═════════════╪══════════╪═══╪══════════╪═════════╪═════════╪══════════╡\n",
       "│ 105         ┆ ALTAMAR     ┆ 2024-01-04  ┆ 8124     ┆ … ┆ 6        ┆ 214.26  ┆ 3.47    ┆ null     │\n",
       "│             ┆ BRANDS LLC  ┆             ┆          ┆   ┆          ┆         ┆         ┆          │\n",
       "│ 4466        ┆ AMERICAN    ┆ 2024-01-07  ┆ 8137     ┆ … ┆ 15       ┆ 140.55  ┆ 8.57    ┆ null     │\n",
       "│             ┆ VINTAGE     ┆             ┆          ┆   ┆          ┆         ┆         ┆          │\n",
       "│             ┆ BEVERAGE    ┆             ┆          ┆   ┆          ┆         ┆         ┆          │\n",
       "│ 388         ┆ ATLANTIC    ┆ 2024-01-09  ┆ 8169     ┆ … ┆ 5        ┆ 106.6   ┆ 4.61    ┆ null     │\n",
       "│             ┆ IMPORTING   ┆             ┆          ┆   ┆          ┆         ┆         ┆          │\n",
       "│             ┆ COMPANY     ┆             ┆          ┆   ┆          ┆         ┆         ┆          │\n",
       "└─────────────┴─────────────┴─────────────┴──────────┴───┴──────────┴─────────┴─────────┴──────────┘"
      ]
     },
     "execution_count": 3,
     "metadata": {},
     "output_type": "execute_result"
    }
   ],
   "source": [
    "vendor_invoice.head(3)"
   ]
  },
  {
   "cell_type": "code",
   "execution_count": 4,
   "id": "cb3f5a7e",
   "metadata": {},
   "outputs": [
    {
     "data": {
      "text/html": [
       "<div><style>\n",
       ".dataframe > thead > tr,\n",
       ".dataframe > tbody > tr {\n",
       "  text-align: right;\n",
       "  white-space: pre-wrap;\n",
       "}\n",
       "</style>\n",
       "<small>shape: (3, 14)</small><table border=\"1\" class=\"dataframe\"><thead><tr><th>InventoryId</th><th>Store</th><th>Brand</th><th>Description</th><th>Size</th><th>SalesQuantity</th><th>SalesDollars</th><th>SalesPrice</th><th>SalesDate</th><th>Volume</th><th>Classification</th><th>ExciseTax</th><th>VendorNo</th><th>VendorName</th></tr><tr><td>str</td><td>i64</td><td>i64</td><td>str</td><td>str</td><td>i64</td><td>f64</td><td>f64</td><td>str</td><td>f64</td><td>i64</td><td>f64</td><td>i64</td><td>str</td></tr></thead><tbody><tr><td>&quot;1_HARDERSFIELD_1004&quot;</td><td>1</td><td>1004</td><td>&quot;Jim Beam w/2 Rocks Glasses&quot;</td><td>&quot;750mL&quot;</td><td>1</td><td>16.49</td><td>16.49</td><td>&quot;2024-01-01&quot;</td><td>750.0</td><td>1</td><td>0.79</td><td>12546</td><td>&quot;JIM BEAM BRANDS COMPANY&nbsp;&nbsp;&nbsp;&nbsp;&quot;</td></tr><tr><td>&quot;1_HARDERSFIELD_1004&quot;</td><td>1</td><td>1004</td><td>&quot;Jim Beam w/2 Rocks Glasses&quot;</td><td>&quot;750mL&quot;</td><td>2</td><td>32.98</td><td>16.49</td><td>&quot;2024-01-02&quot;</td><td>750.0</td><td>1</td><td>1.57</td><td>12546</td><td>&quot;JIM BEAM BRANDS COMPANY&nbsp;&nbsp;&nbsp;&nbsp;&quot;</td></tr><tr><td>&quot;1_HARDERSFIELD_1004&quot;</td><td>1</td><td>1004</td><td>&quot;Jim Beam w/2 Rocks Glasses&quot;</td><td>&quot;750mL&quot;</td><td>1</td><td>16.49</td><td>16.49</td><td>&quot;2024-01-03&quot;</td><td>750.0</td><td>1</td><td>0.79</td><td>12546</td><td>&quot;JIM BEAM BRANDS COMPANY&nbsp;&nbsp;&nbsp;&nbsp;&quot;</td></tr></tbody></table></div>"
      ],
      "text/plain": [
       "shape: (3, 14)\n",
       "┌─────────────┬───────┬───────┬─────────────┬───┬─────────────┬───────────┬──────────┬─────────────┐\n",
       "│ InventoryId ┆ Store ┆ Brand ┆ Description ┆ … ┆ Classificat ┆ ExciseTax ┆ VendorNo ┆ VendorName  │\n",
       "│ ---         ┆ ---   ┆ ---   ┆ ---         ┆   ┆ ion         ┆ ---       ┆ ---      ┆ ---         │\n",
       "│ str         ┆ i64   ┆ i64   ┆ str         ┆   ┆ ---         ┆ f64       ┆ i64      ┆ str         │\n",
       "│             ┆       ┆       ┆             ┆   ┆ i64         ┆           ┆          ┆             │\n",
       "╞═════════════╪═══════╪═══════╪═════════════╪═══╪═════════════╪═══════════╪══════════╪═════════════╡\n",
       "│ 1_HARDERSFI ┆ 1     ┆ 1004  ┆ Jim Beam    ┆ … ┆ 1           ┆ 0.79      ┆ 12546    ┆ JIM BEAM    │\n",
       "│ ELD_1004    ┆       ┆       ┆ w/2 Rocks   ┆   ┆             ┆           ┆          ┆ BRANDS      │\n",
       "│             ┆       ┆       ┆ Glasses     ┆   ┆             ┆           ┆          ┆ COMPANY     │\n",
       "│ 1_HARDERSFI ┆ 1     ┆ 1004  ┆ Jim Beam    ┆ … ┆ 1           ┆ 1.57      ┆ 12546    ┆ JIM BEAM    │\n",
       "│ ELD_1004    ┆       ┆       ┆ w/2 Rocks   ┆   ┆             ┆           ┆          ┆ BRANDS      │\n",
       "│             ┆       ┆       ┆ Glasses     ┆   ┆             ┆           ┆          ┆ COMPANY     │\n",
       "│ 1_HARDERSFI ┆ 1     ┆ 1004  ┆ Jim Beam    ┆ … ┆ 1           ┆ 0.79      ┆ 12546    ┆ JIM BEAM    │\n",
       "│ ELD_1004    ┆       ┆       ┆ w/2 Rocks   ┆   ┆             ┆           ┆          ┆ BRANDS      │\n",
       "│             ┆       ┆       ┆ Glasses     ┆   ┆             ┆           ┆          ┆ COMPANY     │\n",
       "└─────────────┴───────┴───────┴─────────────┴───┴─────────────┴───────────┴──────────┴─────────────┘"
      ]
     },
     "execution_count": 4,
     "metadata": {},
     "output_type": "execute_result"
    }
   ],
   "source": [
    "sales.head(3)"
   ]
  },
  {
   "cell_type": "code",
   "execution_count": 5,
   "id": "7f170cd4",
   "metadata": {},
   "outputs": [
    {
     "data": {
      "text/html": [
       "<div><style>\n",
       ".dataframe > thead > tr,\n",
       ".dataframe > tbody > tr {\n",
       "  text-align: right;\n",
       "  white-space: pre-wrap;\n",
       "}\n",
       "</style>\n",
       "<small>shape: (3, 16)</small><table border=\"1\" class=\"dataframe\"><thead><tr><th>InventoryId</th><th>Store</th><th>Brand</th><th>Description</th><th>Size</th><th>VendorNumber</th><th>VendorName</th><th>PONumber</th><th>PODate</th><th>ReceivingDate</th><th>InvoiceDate</th><th>PayDate</th><th>PurchasePrice</th><th>Quantity</th><th>Dollars</th><th>Classification</th></tr><tr><td>str</td><td>i64</td><td>i64</td><td>str</td><td>str</td><td>i64</td><td>str</td><td>i64</td><td>str</td><td>str</td><td>str</td><td>str</td><td>f64</td><td>i64</td><td>f64</td><td>i64</td></tr></thead><tbody><tr><td>&quot;69_MOUNTMEND_8412&quot;</td><td>69</td><td>8412</td><td>&quot;Tequila Ocho Plata Fresno&quot;</td><td>&quot;750mL&quot;</td><td>105</td><td>&quot;ALTAMAR BRANDS LLC&nbsp;&nbsp;&nbsp;&nbsp;&nbsp;&nbsp;&nbsp;&nbsp;&nbsp;&quot;</td><td>8124</td><td>&quot;2023-12-21&quot;</td><td>&quot;2024-01-02&quot;</td><td>&quot;2024-01-04&quot;</td><td>&quot;2024-02-16&quot;</td><td>35.71</td><td>6</td><td>214.26</td><td>1</td></tr><tr><td>&quot;30_CULCHETH_5255&quot;</td><td>30</td><td>5255</td><td>&quot;TGI Fridays Ultimte Mudslide&quot;</td><td>&quot;1.75L&quot;</td><td>4466</td><td>&quot;AMERICAN VINTAGE BEVERAGE&nbsp;&nbsp;&quot;</td><td>8137</td><td>&quot;2023-12-22&quot;</td><td>&quot;2024-01-01&quot;</td><td>&quot;2024-01-07&quot;</td><td>&quot;2024-02-21&quot;</td><td>9.35</td><td>4</td><td>37.4</td><td>1</td></tr><tr><td>&quot;34_PITMERDEN_5215&quot;</td><td>34</td><td>5215</td><td>&quot;TGI Fridays Long Island Iced&quot;</td><td>&quot;1.75L&quot;</td><td>4466</td><td>&quot;AMERICAN VINTAGE BEVERAGE&nbsp;&nbsp;&quot;</td><td>8137</td><td>&quot;2023-12-22&quot;</td><td>&quot;2024-01-02&quot;</td><td>&quot;2024-01-07&quot;</td><td>&quot;2024-02-21&quot;</td><td>9.41</td><td>5</td><td>47.05</td><td>1</td></tr></tbody></table></div>"
      ],
      "text/plain": [
       "shape: (3, 16)\n",
       "┌──────────────┬───────┬───────┬──────────────┬───┬─────────────┬──────────┬─────────┬─────────────┐\n",
       "│ InventoryId  ┆ Store ┆ Brand ┆ Description  ┆ … ┆ PurchasePri ┆ Quantity ┆ Dollars ┆ Classificat │\n",
       "│ ---          ┆ ---   ┆ ---   ┆ ---          ┆   ┆ ce          ┆ ---      ┆ ---     ┆ ion         │\n",
       "│ str          ┆ i64   ┆ i64   ┆ str          ┆   ┆ ---         ┆ i64      ┆ f64     ┆ ---         │\n",
       "│              ┆       ┆       ┆              ┆   ┆ f64         ┆          ┆         ┆ i64         │\n",
       "╞══════════════╪═══════╪═══════╪══════════════╪═══╪═════════════╪══════════╪═════════╪═════════════╡\n",
       "│ 69_MOUNTMEND ┆ 69    ┆ 8412  ┆ Tequila Ocho ┆ … ┆ 35.71       ┆ 6        ┆ 214.26  ┆ 1           │\n",
       "│ _8412        ┆       ┆       ┆ Plata Fresno ┆   ┆             ┆          ┆         ┆             │\n",
       "│ 30_CULCHETH_ ┆ 30    ┆ 5255  ┆ TGI Fridays  ┆ … ┆ 9.35        ┆ 4        ┆ 37.4    ┆ 1           │\n",
       "│ 5255         ┆       ┆       ┆ Ultimte      ┆   ┆             ┆          ┆         ┆             │\n",
       "│              ┆       ┆       ┆ Mudslide     ┆   ┆             ┆          ┆         ┆             │\n",
       "│ 34_PITMERDEN ┆ 34    ┆ 5215  ┆ TGI Fridays  ┆ … ┆ 9.41        ┆ 5        ┆ 47.05   ┆ 1           │\n",
       "│ _5215        ┆       ┆       ┆ Long Island  ┆   ┆             ┆          ┆         ┆             │\n",
       "│              ┆       ┆       ┆ Iced         ┆   ┆             ┆          ┆         ┆             │\n",
       "└──────────────┴───────┴───────┴──────────────┴───┴─────────────┴──────────┴─────────┴─────────────┘"
      ]
     },
     "execution_count": 5,
     "metadata": {},
     "output_type": "execute_result"
    }
   ],
   "source": [
    "purchase.head(3)"
   ]
  },
  {
   "cell_type": "code",
   "execution_count": 6,
   "id": "839ed5d8",
   "metadata": {},
   "outputs": [
    {
     "data": {
      "text/html": [
       "<div><style>\n",
       ".dataframe > thead > tr,\n",
       ".dataframe > tbody > tr {\n",
       "  text-align: right;\n",
       "  white-space: pre-wrap;\n",
       "}\n",
       "</style>\n",
       "<small>shape: (3, 9)</small><table border=\"1\" class=\"dataframe\"><thead><tr><th>Brand</th><th>Description</th><th>Price</th><th>Size</th><th>Volume</th><th>Classification</th><th>PurchasePrice</th><th>VendorNumber</th><th>VendorName</th></tr><tr><td>i64</td><td>str</td><td>f64</td><td>str</td><td>str</td><td>i64</td><td>f64</td><td>i64</td><td>str</td></tr></thead><tbody><tr><td>58</td><td>&quot;Gekkeikan Black &amp; Gold Sake&quot;</td><td>12.99</td><td>&quot;750mL&quot;</td><td>&quot;750&quot;</td><td>1</td><td>9.28</td><td>8320</td><td>&quot;SHAW ROSS INT L IMP LTD&nbsp;&nbsp;&nbsp;&nbsp;&quot;</td></tr><tr><td>62</td><td>&quot;Herradura Silver Tequila&quot;</td><td>36.99</td><td>&quot;750mL&quot;</td><td>&quot;750&quot;</td><td>1</td><td>28.67</td><td>1128</td><td>&quot;BROWN-FORMAN CORP&nbsp;&nbsp;&nbsp;&nbsp;&nbsp;&nbsp;&nbsp;&nbsp;&nbsp;&nbsp;&quot;</td></tr><tr><td>63</td><td>&quot;Herradura Reposado Tequila&quot;</td><td>38.99</td><td>&quot;750mL&quot;</td><td>&quot;750&quot;</td><td>1</td><td>30.46</td><td>1128</td><td>&quot;BROWN-FORMAN CORP&nbsp;&nbsp;&nbsp;&nbsp;&nbsp;&nbsp;&nbsp;&nbsp;&nbsp;&nbsp;&quot;</td></tr></tbody></table></div>"
      ],
      "text/plain": [
       "shape: (3, 9)\n",
       "┌───────┬──────────────┬───────┬───────┬───┬─────────────┬─────────────┬─────────────┬─────────────┐\n",
       "│ Brand ┆ Description  ┆ Price ┆ Size  ┆ … ┆ Classificat ┆ PurchasePri ┆ VendorNumbe ┆ VendorName  │\n",
       "│ ---   ┆ ---          ┆ ---   ┆ ---   ┆   ┆ ion         ┆ ce          ┆ r           ┆ ---         │\n",
       "│ i64   ┆ str          ┆ f64   ┆ str   ┆   ┆ ---         ┆ ---         ┆ ---         ┆ str         │\n",
       "│       ┆              ┆       ┆       ┆   ┆ i64         ┆ f64         ┆ i64         ┆             │\n",
       "╞═══════╪══════════════╪═══════╪═══════╪═══╪═════════════╪═════════════╪═════════════╪═════════════╡\n",
       "│ 58    ┆ Gekkeikan    ┆ 12.99 ┆ 750mL ┆ … ┆ 1           ┆ 9.28        ┆ 8320        ┆ SHAW ROSS   │\n",
       "│       ┆ Black & Gold ┆       ┆       ┆   ┆             ┆             ┆             ┆ INT L IMP   │\n",
       "│       ┆ Sake         ┆       ┆       ┆   ┆             ┆             ┆             ┆ LTD         │\n",
       "│ 62    ┆ Herradura    ┆ 36.99 ┆ 750mL ┆ … ┆ 1           ┆ 28.67       ┆ 1128        ┆ BROWN-FORMA │\n",
       "│       ┆ Silver       ┆       ┆       ┆   ┆             ┆             ┆             ┆ N CORP      │\n",
       "│       ┆ Tequila      ┆       ┆       ┆   ┆             ┆             ┆             ┆             │\n",
       "│ 63    ┆ Herradura    ┆ 38.99 ┆ 750mL ┆ … ┆ 1           ┆ 30.46       ┆ 1128        ┆ BROWN-FORMA │\n",
       "│       ┆ Reposado     ┆       ┆       ┆   ┆             ┆             ┆             ┆ N CORP      │\n",
       "│       ┆ Tequila      ┆       ┆       ┆   ┆             ┆             ┆             ┆             │\n",
       "└───────┴──────────────┴───────┴───────┴───┴─────────────┴─────────────┴─────────────┴─────────────┘"
      ]
     },
     "execution_count": 6,
     "metadata": {},
     "output_type": "execute_result"
    }
   ],
   "source": [
    "purchase_price.head(3)"
   ]
  },
  {
   "cell_type": "code",
   "execution_count": 7,
   "id": "9462b475",
   "metadata": {},
   "outputs": [
    {
     "data": {
      "text/html": [
       "<div><style>\n",
       ".dataframe > thead > tr,\n",
       ".dataframe > tbody > tr {\n",
       "  text-align: right;\n",
       "  white-space: pre-wrap;\n",
       "}\n",
       "</style>\n",
       "<small>shape: (2, 9)</small><table border=\"1\" class=\"dataframe\"><thead><tr><th>InventoryId</th><th>Store</th><th>City</th><th>Brand</th><th>Description</th><th>Size</th><th>onHand</th><th>Price</th><th>startDate</th></tr><tr><td>str</td><td>i64</td><td>str</td><td>i64</td><td>str</td><td>str</td><td>i64</td><td>f64</td><td>str</td></tr></thead><tbody><tr><td>&quot;1_HARDERSFIELD_58&quot;</td><td>1</td><td>&quot;HARDERSFIELD&quot;</td><td>58</td><td>&quot;Gekkeikan Black &amp; Gold Sake&quot;</td><td>&quot;750mL&quot;</td><td>8</td><td>12.99</td><td>&quot;2024-01-01&quot;</td></tr><tr><td>&quot;1_HARDERSFIELD_60&quot;</td><td>1</td><td>&quot;HARDERSFIELD&quot;</td><td>60</td><td>&quot;Canadian Club 1858 VAP&quot;</td><td>&quot;750mL&quot;</td><td>7</td><td>10.99</td><td>&quot;2024-01-01&quot;</td></tr></tbody></table></div>"
      ],
      "text/plain": [
       "shape: (2, 9)\n",
       "┌───────────────────┬───────┬──────────────┬───────┬───┬───────┬────────┬───────┬────────────┐\n",
       "│ InventoryId       ┆ Store ┆ City         ┆ Brand ┆ … ┆ Size  ┆ onHand ┆ Price ┆ startDate  │\n",
       "│ ---               ┆ ---   ┆ ---          ┆ ---   ┆   ┆ ---   ┆ ---    ┆ ---   ┆ ---        │\n",
       "│ str               ┆ i64   ┆ str          ┆ i64   ┆   ┆ str   ┆ i64    ┆ f64   ┆ str        │\n",
       "╞═══════════════════╪═══════╪══════════════╪═══════╪═══╪═══════╪════════╪═══════╪════════════╡\n",
       "│ 1_HARDERSFIELD_58 ┆ 1     ┆ HARDERSFIELD ┆ 58    ┆ … ┆ 750mL ┆ 8      ┆ 12.99 ┆ 2024-01-01 │\n",
       "│ 1_HARDERSFIELD_60 ┆ 1     ┆ HARDERSFIELD ┆ 60    ┆ … ┆ 750mL ┆ 7      ┆ 10.99 ┆ 2024-01-01 │\n",
       "└───────────────────┴───────┴──────────────┴───────┴───┴───────┴────────┴───────┴────────────┘"
      ]
     },
     "execution_count": 7,
     "metadata": {},
     "output_type": "execute_result"
    }
   ],
   "source": [
    "begin_inventory.head(2)"
   ]
  },
  {
   "cell_type": "code",
   "execution_count": 8,
   "id": "cecd59d9",
   "metadata": {},
   "outputs": [
    {
     "data": {
      "text/html": [
       "<div><style>\n",
       ".dataframe > thead > tr,\n",
       ".dataframe > tbody > tr {\n",
       "  text-align: right;\n",
       "  white-space: pre-wrap;\n",
       "}\n",
       "</style>\n",
       "<small>shape: (2, 9)</small><table border=\"1\" class=\"dataframe\"><thead><tr><th>InventoryId</th><th>Store</th><th>City</th><th>Brand</th><th>Description</th><th>Size</th><th>onHand</th><th>Price</th><th>startDate</th></tr><tr><td>str</td><td>i64</td><td>str</td><td>i64</td><td>str</td><td>str</td><td>i64</td><td>f64</td><td>str</td></tr></thead><tbody><tr><td>&quot;79_BALLYMENA_90011&quot;</td><td>79</td><td>&quot;BALLYMENA&quot;</td><td>90011</td><td>&quot;Ch Pichon Longville 12 Pauil&quot;</td><td>&quot;750mL&quot;</td><td>12</td><td>144.99</td><td>&quot;2024-01-01&quot;</td></tr><tr><td>&quot;79_BALLYMENA_90089&quot;</td><td>79</td><td>&quot;BALLYMENA&quot;</td><td>90089</td><td>&quot;Ch Lynch Bages 12 Pauillac&quot;</td><td>&quot;750mL&quot;</td><td>24</td><td>119.99</td><td>&quot;2024-01-01&quot;</td></tr></tbody></table></div>"
      ],
      "text/plain": [
       "shape: (2, 9)\n",
       "┌────────────────────┬───────┬───────────┬───────┬───┬───────┬────────┬────────┬────────────┐\n",
       "│ InventoryId        ┆ Store ┆ City      ┆ Brand ┆ … ┆ Size  ┆ onHand ┆ Price  ┆ startDate  │\n",
       "│ ---                ┆ ---   ┆ ---       ┆ ---   ┆   ┆ ---   ┆ ---    ┆ ---    ┆ ---        │\n",
       "│ str                ┆ i64   ┆ str       ┆ i64   ┆   ┆ str   ┆ i64    ┆ f64    ┆ str        │\n",
       "╞════════════════════╪═══════╪═══════════╪═══════╪═══╪═══════╪════════╪════════╪════════════╡\n",
       "│ 79_BALLYMENA_90011 ┆ 79    ┆ BALLYMENA ┆ 90011 ┆ … ┆ 750mL ┆ 12     ┆ 144.99 ┆ 2024-01-01 │\n",
       "│ 79_BALLYMENA_90089 ┆ 79    ┆ BALLYMENA ┆ 90089 ┆ … ┆ 750mL ┆ 24     ┆ 119.99 ┆ 2024-01-01 │\n",
       "└────────────────────┴───────┴───────────┴───────┴───┴───────┴────────┴────────┴────────────┘"
      ]
     },
     "execution_count": 8,
     "metadata": {},
     "output_type": "execute_result"
    }
   ],
   "source": [
    "begin_inventory.tail(2)"
   ]
  },
  {
   "cell_type": "code",
   "execution_count": 9,
   "id": "132a8115",
   "metadata": {},
   "outputs": [
    {
     "data": {
      "text/html": [
       "<div><style>\n",
       ".dataframe > thead > tr,\n",
       ".dataframe > tbody > tr {\n",
       "  text-align: right;\n",
       "  white-space: pre-wrap;\n",
       "}\n",
       "</style>\n",
       "<small>shape: (2, 9)</small><table border=\"1\" class=\"dataframe\"><thead><tr><th>InventoryId</th><th>Store</th><th>City</th><th>Brand</th><th>Description</th><th>Size</th><th>onHand</th><th>Price</th><th>endDate</th></tr><tr><td>str</td><td>i64</td><td>str</td><td>i64</td><td>str</td><td>str</td><td>i64</td><td>f64</td><td>str</td></tr></thead><tbody><tr><td>&quot;1_HARDERSFIELD_58&quot;</td><td>1</td><td>&quot;HARDERSFIELD&quot;</td><td>58</td><td>&quot;Gekkeikan Black &amp; Gold Sake&quot;</td><td>&quot;750mL&quot;</td><td>11</td><td>12.99</td><td>&quot;2024-12-31&quot;</td></tr><tr><td>&quot;1_HARDERSFIELD_62&quot;</td><td>1</td><td>&quot;HARDERSFIELD&quot;</td><td>62</td><td>&quot;Herradura Silver Tequila&quot;</td><td>&quot;750mL&quot;</td><td>7</td><td>36.99</td><td>&quot;2024-12-31&quot;</td></tr></tbody></table></div>"
      ],
      "text/plain": [
       "shape: (2, 9)\n",
       "┌───────────────────┬───────┬──────────────┬───────┬───┬───────┬────────┬───────┬────────────┐\n",
       "│ InventoryId       ┆ Store ┆ City         ┆ Brand ┆ … ┆ Size  ┆ onHand ┆ Price ┆ endDate    │\n",
       "│ ---               ┆ ---   ┆ ---          ┆ ---   ┆   ┆ ---   ┆ ---    ┆ ---   ┆ ---        │\n",
       "│ str               ┆ i64   ┆ str          ┆ i64   ┆   ┆ str   ┆ i64    ┆ f64   ┆ str        │\n",
       "╞═══════════════════╪═══════╪══════════════╪═══════╪═══╪═══════╪════════╪═══════╪════════════╡\n",
       "│ 1_HARDERSFIELD_58 ┆ 1     ┆ HARDERSFIELD ┆ 58    ┆ … ┆ 750mL ┆ 11     ┆ 12.99 ┆ 2024-12-31 │\n",
       "│ 1_HARDERSFIELD_62 ┆ 1     ┆ HARDERSFIELD ┆ 62    ┆ … ┆ 750mL ┆ 7      ┆ 36.99 ┆ 2024-12-31 │\n",
       "└───────────────────┴───────┴──────────────┴───────┴───┴───────┴────────┴───────┴────────────┘"
      ]
     },
     "execution_count": 9,
     "metadata": {},
     "output_type": "execute_result"
    }
   ],
   "source": [
    "end_inventory.head(2)"
   ]
  },
  {
   "cell_type": "code",
   "execution_count": 10,
   "id": "bd409f1e",
   "metadata": {},
   "outputs": [
    {
     "data": {
      "text/html": [
       "<div><style>\n",
       ".dataframe > thead > tr,\n",
       ".dataframe > tbody > tr {\n",
       "  text-align: right;\n",
       "  white-space: pre-wrap;\n",
       "}\n",
       "</style>\n",
       "<small>shape: (2, 9)</small><table border=\"1\" class=\"dataframe\"><thead><tr><th>InventoryId</th><th>Store</th><th>City</th><th>Brand</th><th>Description</th><th>Size</th><th>onHand</th><th>Price</th><th>endDate</th></tr><tr><td>str</td><td>i64</td><td>str</td><td>i64</td><td>str</td><td>str</td><td>i64</td><td>f64</td><td>str</td></tr></thead><tbody><tr><td>&quot;81_PEMBROKE_90090&quot;</td><td>81</td><td>&quot;PEMBROKE&quot;</td><td>90090</td><td>&quot;Ch Lafite Rothschild 12&quot;</td><td>&quot;750mL&quot;</td><td>3</td><td>649.99</td><td>&quot;2024-12-31&quot;</td></tr><tr><td>&quot;81_PEMBROKE_90604&quot;</td><td>81</td><td>&quot;PEMBROKE&quot;</td><td>90604</td><td>&quot;Ch Lynch Bages Pauilac&quot;</td><td>&quot;750mL&quot;</td><td>2</td><td>119.99</td><td>&quot;2024-12-31&quot;</td></tr></tbody></table></div>"
      ],
      "text/plain": [
       "shape: (2, 9)\n",
       "┌───────────────────┬───────┬──────────┬───────┬───┬───────┬────────┬────────┬────────────┐\n",
       "│ InventoryId       ┆ Store ┆ City     ┆ Brand ┆ … ┆ Size  ┆ onHand ┆ Price  ┆ endDate    │\n",
       "│ ---               ┆ ---   ┆ ---      ┆ ---   ┆   ┆ ---   ┆ ---    ┆ ---    ┆ ---        │\n",
       "│ str               ┆ i64   ┆ str      ┆ i64   ┆   ┆ str   ┆ i64    ┆ f64    ┆ str        │\n",
       "╞═══════════════════╪═══════╪══════════╪═══════╪═══╪═══════╪════════╪════════╪════════════╡\n",
       "│ 81_PEMBROKE_90090 ┆ 81    ┆ PEMBROKE ┆ 90090 ┆ … ┆ 750mL ┆ 3      ┆ 649.99 ┆ 2024-12-31 │\n",
       "│ 81_PEMBROKE_90604 ┆ 81    ┆ PEMBROKE ┆ 90604 ┆ … ┆ 750mL ┆ 2      ┆ 119.99 ┆ 2024-12-31 │\n",
       "└───────────────────┴───────┴──────────┴───────┴───┴───────┴────────┴────────┴────────────┘"
      ]
     },
     "execution_count": 10,
     "metadata": {},
     "output_type": "execute_result"
    }
   ],
   "source": [
    "end_inventory.tail(2)"
   ]
  },
  {
   "cell_type": "code",
   "execution_count": 11,
   "id": "9ddd77d5",
   "metadata": {},
   "outputs": [
    {
     "name": "stdout",
     "output_type": "stream",
     "text": [
      "206529\n",
      "224489\n"
     ]
    }
   ],
   "source": [
    "begin_inventory_rows = len(begin_inventory)\n",
    "end_inventory_rows = len(end_inventory)\n",
    "print(begin_inventory_rows)\n",
    "print(end_inventory_rows)\n"
   ]
  },
  {
   "cell_type": "code",
   "execution_count": 12,
   "id": "debe77d4",
   "metadata": {},
   "outputs": [
    {
     "name": "stdout",
     "output_type": "stream",
     "text": [
      "103764\n"
     ]
    },
    {
     "data": {
      "text/html": [
       "<div>\n",
       "<style scoped>\n",
       "    .dataframe tbody tr th:only-of-type {\n",
       "        vertical-align: middle;\n",
       "    }\n",
       "\n",
       "    .dataframe tbody tr th {\n",
       "        vertical-align: top;\n",
       "    }\n",
       "\n",
       "    .dataframe thead th {\n",
       "        text-align: right;\n",
       "    }\n",
       "</style>\n",
       "<table border=\"1\" class=\"dataframe\">\n",
       "  <thead>\n",
       "    <tr style=\"text-align: right;\">\n",
       "      <th></th>\n",
       "      <th>0</th>\n",
       "      <th>1</th>\n",
       "      <th>2</th>\n",
       "      <th>3</th>\n",
       "      <th>4</th>\n",
       "      <th>5</th>\n",
       "      <th>6</th>\n",
       "      <th>7</th>\n",
       "      <th>8</th>\n",
       "    </tr>\n",
       "  </thead>\n",
       "  <tbody>\n",
       "    <tr>\n",
       "      <th>103764</th>\n",
       "      <td>43_WOLFORD_3364</td>\n",
       "      <td>43</td>\n",
       "      <td>WOLFORD</td>\n",
       "      <td>3364</td>\n",
       "      <td>Absolut Ruby Red</td>\n",
       "      <td>1.75L</td>\n",
       "      <td>4</td>\n",
       "      <td>24.99</td>\n",
       "      <td>2024-01-01</td>\n",
       "    </tr>\n",
       "    <tr>\n",
       "      <th>103765</th>\n",
       "      <td>43_WOLFORD_3366</td>\n",
       "      <td>43</td>\n",
       "      <td>WOLFORD</td>\n",
       "      <td>3366</td>\n",
       "      <td>Tanqueray Rangpur Gin</td>\n",
       "      <td>1.75L</td>\n",
       "      <td>6</td>\n",
       "      <td>33.99</td>\n",
       "      <td>2024-01-01</td>\n",
       "    </tr>\n",
       "    <tr>\n",
       "      <th>103766</th>\n",
       "      <td>43_WOLFORD_3367</td>\n",
       "      <td>43</td>\n",
       "      <td>WOLFORD</td>\n",
       "      <td>3367</td>\n",
       "      <td>Pinnacle Pomegranate Vodka</td>\n",
       "      <td>750mL</td>\n",
       "      <td>10</td>\n",
       "      <td>9.99</td>\n",
       "      <td>2024-01-01</td>\n",
       "    </tr>\n",
       "    <tr>\n",
       "      <th>103767</th>\n",
       "      <td>43_WOLFORD_3368</td>\n",
       "      <td>43</td>\n",
       "      <td>WOLFORD</td>\n",
       "      <td>3368</td>\n",
       "      <td>Pinnacle Grape Vodka</td>\n",
       "      <td>1.75L</td>\n",
       "      <td>14</td>\n",
       "      <td>16.99</td>\n",
       "      <td>2024-01-01</td>\n",
       "    </tr>\n",
       "    <tr>\n",
       "      <th>103768</th>\n",
       "      <td>43_WOLFORD_3385</td>\n",
       "      <td>43</td>\n",
       "      <td>WOLFORD</td>\n",
       "      <td>3385</td>\n",
       "      <td>Pinnacle Strawbry Kiwi Vodka</td>\n",
       "      <td>1.75L</td>\n",
       "      <td>6</td>\n",
       "      <td>16.99</td>\n",
       "      <td>2024-01-01</td>\n",
       "    </tr>\n",
       "  </tbody>\n",
       "</table>\n",
       "</div>"
      ],
      "text/plain": [
       "                      0   1        2     3                             4  \\\n",
       "103764  43_WOLFORD_3364  43  WOLFORD  3364              Absolut Ruby Red   \n",
       "103765  43_WOLFORD_3366  43  WOLFORD  3366         Tanqueray Rangpur Gin   \n",
       "103766  43_WOLFORD_3367  43  WOLFORD  3367    Pinnacle Pomegranate Vodka   \n",
       "103767  43_WOLFORD_3368  43  WOLFORD  3368          Pinnacle Grape Vodka   \n",
       "103768  43_WOLFORD_3385  43  WOLFORD  3385  Pinnacle Strawbry Kiwi Vodka   \n",
       "\n",
       "            5   6      7           8  \n",
       "103764  1.75L   4  24.99  2024-01-01  \n",
       "103765  1.75L   6  33.99  2024-01-01  \n",
       "103766  750mL  10   9.99  2024-01-01  \n",
       "103767  1.75L  14  16.99  2024-01-01  \n",
       "103768  1.75L   6  16.99  2024-01-01  "
      ]
     },
     "execution_count": 12,
     "metadata": {},
     "output_type": "execute_result"
    }
   ],
   "source": [
    "df = pd.DataFrame(begin_inventory)\n",
    "start_begin_inv_index = (begin_inventory_rows // 2) + 500\n",
    "print(start_begin_inv_index)\n",
    "bigin_inventory_mid_5_rows = df.iloc[start_begin_inv_index : start_begin_inv_index + 5]\n",
    "bigin_inventory_mid_5_rows\n"
   ]
  },
  {
   "cell_type": "code",
   "execution_count": 13,
   "id": "48809ebe",
   "metadata": {},
   "outputs": [
    {
     "name": "stdout",
     "output_type": "stream",
     "text": [
      "112744\n"
     ]
    },
    {
     "data": {
      "text/html": [
       "<div>\n",
       "<style scoped>\n",
       "    .dataframe tbody tr th:only-of-type {\n",
       "        vertical-align: middle;\n",
       "    }\n",
       "\n",
       "    .dataframe tbody tr th {\n",
       "        vertical-align: top;\n",
       "    }\n",
       "\n",
       "    .dataframe thead th {\n",
       "        text-align: right;\n",
       "    }\n",
       "</style>\n",
       "<table border=\"1\" class=\"dataframe\">\n",
       "  <thead>\n",
       "    <tr style=\"text-align: right;\">\n",
       "      <th></th>\n",
       "      <th>0</th>\n",
       "      <th>1</th>\n",
       "      <th>2</th>\n",
       "      <th>3</th>\n",
       "      <th>4</th>\n",
       "      <th>5</th>\n",
       "      <th>6</th>\n",
       "      <th>7</th>\n",
       "      <th>8</th>\n",
       "    </tr>\n",
       "  </thead>\n",
       "  <tbody>\n",
       "    <tr>\n",
       "      <th>112744</th>\n",
       "      <td>45_VERITAS_2586</td>\n",
       "      <td>45</td>\n",
       "      <td>VERITAS</td>\n",
       "      <td>2586</td>\n",
       "      <td>Jameson Irish Whiskey</td>\n",
       "      <td>50mL</td>\n",
       "      <td>72</td>\n",
       "      <td>2.99</td>\n",
       "      <td>2024-12-31</td>\n",
       "    </tr>\n",
       "    <tr>\n",
       "      <th>112745</th>\n",
       "      <td>45_VERITAS_2587</td>\n",
       "      <td>45</td>\n",
       "      <td>VERITAS</td>\n",
       "      <td>2587</td>\n",
       "      <td>Jameson Irish Whiskey</td>\n",
       "      <td>375mL</td>\n",
       "      <td>19</td>\n",
       "      <td>18.99</td>\n",
       "      <td>2024-12-31</td>\n",
       "    </tr>\n",
       "    <tr>\n",
       "      <th>112746</th>\n",
       "      <td>45_VERITAS_2589</td>\n",
       "      <td>45</td>\n",
       "      <td>VERITAS</td>\n",
       "      <td>2589</td>\n",
       "      <td>Jameson Irish Whiskey</td>\n",
       "      <td>1.75L</td>\n",
       "      <td>34</td>\n",
       "      <td>37.99</td>\n",
       "      <td>2024-12-31</td>\n",
       "    </tr>\n",
       "    <tr>\n",
       "      <th>112747</th>\n",
       "      <td>45_VERITAS_2595</td>\n",
       "      <td>45</td>\n",
       "      <td>VERITAS</td>\n",
       "      <td>2595</td>\n",
       "      <td>Clontarf Irish Whiskey</td>\n",
       "      <td>750mL</td>\n",
       "      <td>16</td>\n",
       "      <td>16.99</td>\n",
       "      <td>2024-12-31</td>\n",
       "    </tr>\n",
       "    <tr>\n",
       "      <th>112748</th>\n",
       "      <td>45_VERITAS_2606</td>\n",
       "      <td>45</td>\n",
       "      <td>VERITAS</td>\n",
       "      <td>2606</td>\n",
       "      <td>Glenmorangie Original 18Yr</td>\n",
       "      <td>750mL</td>\n",
       "      <td>4</td>\n",
       "      <td>99.99</td>\n",
       "      <td>2024-12-31</td>\n",
       "    </tr>\n",
       "  </tbody>\n",
       "</table>\n",
       "</div>"
      ],
      "text/plain": [
       "                      0   1        2     3                           4      5  \\\n",
       "112744  45_VERITAS_2586  45  VERITAS  2586       Jameson Irish Whiskey   50mL   \n",
       "112745  45_VERITAS_2587  45  VERITAS  2587       Jameson Irish Whiskey  375mL   \n",
       "112746  45_VERITAS_2589  45  VERITAS  2589       Jameson Irish Whiskey  1.75L   \n",
       "112747  45_VERITAS_2595  45  VERITAS  2595      Clontarf Irish Whiskey  750mL   \n",
       "112748  45_VERITAS_2606  45  VERITAS  2606  Glenmorangie Original 18Yr  750mL   \n",
       "\n",
       "         6      7           8  \n",
       "112744  72   2.99  2024-12-31  \n",
       "112745  19  18.99  2024-12-31  \n",
       "112746  34  37.99  2024-12-31  \n",
       "112747  16  16.99  2024-12-31  \n",
       "112748   4  99.99  2024-12-31  "
      ]
     },
     "execution_count": 13,
     "metadata": {},
     "output_type": "execute_result"
    }
   ],
   "source": [
    "dfend = pd.DataFrame(end_inventory)\n",
    "start_end_inv_index = (end_inventory_rows // 2) + 500\n",
    "print(start_end_inv_index)\n",
    "end_inventory_mid_5_rows = dfend.iloc[start_end_inv_index : start_end_inv_index + 5]\n",
    "end_inventory_mid_5_rows\n"
   ]
  },
  {
   "cell_type": "code",
   "execution_count": 14,
   "id": "9ce38b06",
   "metadata": {},
   "outputs": [
    {
     "data": {
      "text/html": [
       "<div><style>\n",
       ".dataframe > thead > tr,\n",
       ".dataframe > tbody > tr {\n",
       "  text-align: right;\n",
       "  white-space: pre-wrap;\n",
       "}\n",
       "</style>\n",
       "<small>shape: (1,)</small><table border=\"1\" class=\"dataframe\"><thead><tr><th>startDate</th></tr><tr><td>str</td></tr></thead><tbody><tr><td>&quot;2024-01-01&quot;</td></tr></tbody></table></div>"
      ],
      "text/plain": [
       "shape: (1,)\n",
       "Series: 'startDate' [str]\n",
       "[\n",
       "\t\"2024-01-01\"\n",
       "]"
      ]
     },
     "execution_count": 14,
     "metadata": {},
     "output_type": "execute_result"
    }
   ],
   "source": [
    "unique_bigin_inventory_date = begin_inventory['startDate'].unique()\n",
    "unique_bigin_inventory_date"
   ]
  },
  {
   "cell_type": "code",
   "execution_count": 15,
   "id": "0de8812a",
   "metadata": {},
   "outputs": [
    {
     "data": {
      "text/html": [
       "<div><style>\n",
       ".dataframe > thead > tr,\n",
       ".dataframe > tbody > tr {\n",
       "  text-align: right;\n",
       "  white-space: pre-wrap;\n",
       "}\n",
       "</style>\n",
       "<small>shape: (1,)</small><table border=\"1\" class=\"dataframe\"><thead><tr><th>endDate</th></tr><tr><td>str</td></tr></thead><tbody><tr><td>&quot;2024-12-31&quot;</td></tr></tbody></table></div>"
      ],
      "text/plain": [
       "shape: (1,)\n",
       "Series: 'endDate' [str]\n",
       "[\n",
       "\t\"2024-12-31\"\n",
       "]"
      ]
     },
     "execution_count": 15,
     "metadata": {},
     "output_type": "execute_result"
    }
   ],
   "source": [
    "unique_end_inventory_date = end_inventory['endDate'].unique()\n",
    "unique_end_inventory_date"
   ]
  },
  {
   "cell_type": "code",
   "execution_count": 16,
   "id": "384a574d",
   "metadata": {},
   "outputs": [
    {
     "data": {
      "text/html": [
       "<div><style>\n",
       ".dataframe > thead > tr,\n",
       ".dataframe > tbody > tr {\n",
       "  text-align: right;\n",
       "  white-space: pre-wrap;\n",
       "}\n",
       "</style>\n",
       "<small>shape: (4, 9)</small><table border=\"1\" class=\"dataframe\"><thead><tr><th>Brand</th><th>Description</th><th>Price</th><th>Size</th><th>Volume</th><th>Classification</th><th>PurchasePrice</th><th>VendorNumber</th><th>VendorName</th></tr><tr><td>i64</td><td>str</td><td>f64</td><td>str</td><td>str</td><td>i64</td><td>f64</td><td>i64</td><td>str</td></tr></thead><tbody><tr><td>8412</td><td>&quot;Tequila Ocho Plata Fresno&quot;</td><td>49.99</td><td>&quot;750mL&quot;</td><td>&quot;750&quot;</td><td>1</td><td>35.71</td><td>105</td><td>&quot;ALTAMAR BRANDS LLC&nbsp;&nbsp;&nbsp;&nbsp;&nbsp;&nbsp;&nbsp;&nbsp;&nbsp;&quot;</td></tr><tr><td>8419</td><td>&quot;Ocho Tequila Plata Corrales&quot;</td><td>6.99</td><td>&quot;100mL&quot;</td><td>&quot;100&quot;</td><td>1</td><td>5.3</td><td>105</td><td>&quot;ALTAMAR BRANDS LLC&nbsp;&nbsp;&nbsp;&nbsp;&nbsp;&nbsp;&nbsp;&nbsp;&nbsp;&quot;</td></tr><tr><td>60</td><td>&quot;Canadian Club 1858 VAP&quot;</td><td>10.99</td><td>&quot;750mL&quot;</td><td>&quot;750&quot;</td><td>1</td><td>7.4</td><td>12546</td><td>&quot;JIM BEAM BRANDS COMPANY&nbsp;&nbsp;&nbsp;&nbsp;&quot;</td></tr><tr><td>2529</td><td>&quot;Right Gin&quot;</td><td>29.99</td><td>&quot;750mL&quot;</td><td>&quot;750&quot;</td><td>1</td><td>23.25</td><td>105</td><td>&quot;ALTAMAR BRANDS LLC&nbsp;&nbsp;&nbsp;&nbsp;&nbsp;&nbsp;&nbsp;&nbsp;&nbsp;&quot;</td></tr></tbody></table></div>"
      ],
      "text/plain": [
       "shape: (4, 9)\n",
       "┌───────┬──────────────┬───────┬───────┬───┬─────────────┬─────────────┬─────────────┬─────────────┐\n",
       "│ Brand ┆ Description  ┆ Price ┆ Size  ┆ … ┆ Classificat ┆ PurchasePri ┆ VendorNumbe ┆ VendorName  │\n",
       "│ ---   ┆ ---          ┆ ---   ┆ ---   ┆   ┆ ion         ┆ ce          ┆ r           ┆ ---         │\n",
       "│ i64   ┆ str          ┆ f64   ┆ str   ┆   ┆ ---         ┆ ---         ┆ ---         ┆ str         │\n",
       "│       ┆              ┆       ┆       ┆   ┆ i64         ┆ f64         ┆ i64         ┆             │\n",
       "╞═══════╪══════════════╪═══════╪═══════╪═══╪═════════════╪═════════════╪═════════════╪═════════════╡\n",
       "│ 8412  ┆ Tequila Ocho ┆ 49.99 ┆ 750mL ┆ … ┆ 1           ┆ 35.71       ┆ 105         ┆ ALTAMAR     │\n",
       "│       ┆ Plata Fresno ┆       ┆       ┆   ┆             ┆             ┆             ┆ BRANDS LLC  │\n",
       "│ 8419  ┆ Ocho Tequila ┆ 6.99  ┆ 100mL ┆ … ┆ 1           ┆ 5.3         ┆ 105         ┆ ALTAMAR     │\n",
       "│       ┆ Plata        ┆       ┆       ┆   ┆             ┆             ┆             ┆ BRANDS LLC  │\n",
       "│       ┆ Corrales     ┆       ┆       ┆   ┆             ┆             ┆             ┆             │\n",
       "│ 60    ┆ Canadian     ┆ 10.99 ┆ 750mL ┆ … ┆ 1           ┆ 7.4         ┆ 12546       ┆ JIM BEAM    │\n",
       "│       ┆ Club 1858    ┆       ┆       ┆   ┆             ┆             ┆             ┆ BRANDS      │\n",
       "│       ┆ VAP          ┆       ┆       ┆   ┆             ┆             ┆             ┆ COMPANY     │\n",
       "│ 2529  ┆ Right Gin    ┆ 29.99 ┆ 750mL ┆ … ┆ 1           ┆ 23.25       ┆ 105         ┆ ALTAMAR     │\n",
       "│       ┆              ┆       ┆       ┆   ┆             ┆             ┆             ┆ BRANDS LLC  │\n",
       "└───────┴──────────────┴───────┴───────┴───┴─────────────┴─────────────┴─────────────┴─────────────┘"
      ]
     },
     "execution_count": 16,
     "metadata": {},
     "output_type": "execute_result"
    }
   ],
   "source": [
    "vendor_list = [105]\n",
    "brand_list = [60]\n",
    "\n",
    "# Filter from Purchase_price\n",
    "filter_purchase_price = purchase_price.filter(\n",
    "    pl.col('VendorNumber').is_in(vendor_list) | \n",
    "    pl.col('Brand').is_in(brand_list)\n",
    "    )\n",
    "filter_purchase_price"
   ]
  },
  {
   "cell_type": "code",
   "execution_count": 17,
   "id": "9bc8aa06",
   "metadata": {},
   "outputs": [
    {
     "data": {
      "text/html": [
       "<div><style>\n",
       ".dataframe > thead > tr,\n",
       ".dataframe > tbody > tr {\n",
       "  text-align: right;\n",
       "  white-space: pre-wrap;\n",
       "}\n",
       "</style>\n",
       "<small>shape: (5, 16)</small><table border=\"1\" class=\"dataframe\"><thead><tr><th>InventoryId</th><th>Store</th><th>Brand</th><th>Description</th><th>Size</th><th>VendorNumber</th><th>VendorName</th><th>PONumber</th><th>PODate</th><th>ReceivingDate</th><th>InvoiceDate</th><th>PayDate</th><th>PurchasePrice</th><th>Quantity</th><th>Dollars</th><th>Classification</th></tr><tr><td>str</td><td>i64</td><td>i64</td><td>str</td><td>str</td><td>i64</td><td>str</td><td>i64</td><td>str</td><td>str</td><td>str</td><td>str</td><td>f64</td><td>i64</td><td>f64</td><td>i64</td></tr></thead><tbody><tr><td>&quot;69_MOUNTMEND_8412&quot;</td><td>69</td><td>8412</td><td>&quot;Tequila Ocho Plata Fresno&quot;</td><td>&quot;750mL&quot;</td><td>105</td><td>&quot;ALTAMAR BRANDS LLC&nbsp;&nbsp;&nbsp;&nbsp;&nbsp;&nbsp;&nbsp;&nbsp;&nbsp;&quot;</td><td>8124</td><td>&quot;2023-12-21&quot;</td><td>&quot;2024-01-02&quot;</td><td>&quot;2024-01-04&quot;</td><td>&quot;2024-02-16&quot;</td><td>35.71</td><td>6</td><td>214.26</td><td>1</td></tr><tr><td>&quot;66_EANVERNESS_8412&quot;</td><td>66</td><td>8412</td><td>&quot;Tequila Ocho Plata Fresno&quot;</td><td>&quot;750mL&quot;</td><td>105</td><td>&quot;ALTAMAR BRANDS LLC&nbsp;&nbsp;&nbsp;&nbsp;&nbsp;&nbsp;&nbsp;&nbsp;&nbsp;&quot;</td><td>8234</td><td>&quot;2023-12-29&quot;</td><td>&quot;2024-01-04&quot;</td><td>&quot;2024-01-17&quot;</td><td>&quot;2024-02-22&quot;</td><td>35.71</td><td>6</td><td>214.26</td><td>1</td></tr><tr><td>&quot;15_WANBORNE_8412&quot;</td><td>15</td><td>8412</td><td>&quot;Tequila Ocho Plata Fresno&quot;</td><td>&quot;750mL&quot;</td><td>105</td><td>&quot;ALTAMAR BRANDS LLC&nbsp;&nbsp;&nbsp;&nbsp;&nbsp;&nbsp;&nbsp;&nbsp;&nbsp;&quot;</td><td>8234</td><td>&quot;2023-12-29&quot;</td><td>&quot;2024-01-07&quot;</td><td>&quot;2024-01-17&quot;</td><td>&quot;2024-02-22&quot;</td><td>35.71</td><td>6</td><td>214.26</td><td>1</td></tr><tr><td>&quot;66_EANVERNESS_8412&quot;</td><td>66</td><td>8412</td><td>&quot;Tequila Ocho Plata Fresno&quot;</td><td>&quot;750mL&quot;</td><td>105</td><td>&quot;ALTAMAR BRANDS LLC&nbsp;&nbsp;&nbsp;&nbsp;&nbsp;&nbsp;&nbsp;&nbsp;&nbsp;&quot;</td><td>8836</td><td>&quot;2024-02-09&quot;</td><td>&quot;2024-02-18&quot;</td><td>&quot;2024-02-22&quot;</td><td>&quot;2024-03-31&quot;</td><td>35.71</td><td>6</td><td>214.26</td><td>1</td></tr><tr><td>&quot;10_HORNSEY_8412&quot;</td><td>10</td><td>8412</td><td>&quot;Tequila Ocho Plata Fresno&quot;</td><td>&quot;750mL&quot;</td><td>105</td><td>&quot;ALTAMAR BRANDS LLC&nbsp;&nbsp;&nbsp;&nbsp;&nbsp;&nbsp;&nbsp;&nbsp;&nbsp;&quot;</td><td>8836</td><td>&quot;2024-02-09&quot;</td><td>&quot;2024-02-17&quot;</td><td>&quot;2024-02-22&quot;</td><td>&quot;2024-03-31&quot;</td><td>35.71</td><td>6</td><td>214.26</td><td>1</td></tr></tbody></table></div>"
      ],
      "text/plain": [
       "shape: (5, 16)\n",
       "┌──────────────┬───────┬───────┬──────────────┬───┬─────────────┬──────────┬─────────┬─────────────┐\n",
       "│ InventoryId  ┆ Store ┆ Brand ┆ Description  ┆ … ┆ PurchasePri ┆ Quantity ┆ Dollars ┆ Classificat │\n",
       "│ ---          ┆ ---   ┆ ---   ┆ ---          ┆   ┆ ce          ┆ ---      ┆ ---     ┆ ion         │\n",
       "│ str          ┆ i64   ┆ i64   ┆ str          ┆   ┆ ---         ┆ i64      ┆ f64     ┆ ---         │\n",
       "│              ┆       ┆       ┆              ┆   ┆ f64         ┆          ┆         ┆ i64         │\n",
       "╞══════════════╪═══════╪═══════╪══════════════╪═══╪═════════════╪══════════╪═════════╪═════════════╡\n",
       "│ 69_MOUNTMEND ┆ 69    ┆ 8412  ┆ Tequila Ocho ┆ … ┆ 35.71       ┆ 6        ┆ 214.26  ┆ 1           │\n",
       "│ _8412        ┆       ┆       ┆ Plata Fresno ┆   ┆             ┆          ┆         ┆             │\n",
       "│ 66_EANVERNES ┆ 66    ┆ 8412  ┆ Tequila Ocho ┆ … ┆ 35.71       ┆ 6        ┆ 214.26  ┆ 1           │\n",
       "│ S_8412       ┆       ┆       ┆ Plata Fresno ┆   ┆             ┆          ┆         ┆             │\n",
       "│ 15_WANBORNE_ ┆ 15    ┆ 8412  ┆ Tequila Ocho ┆ … ┆ 35.71       ┆ 6        ┆ 214.26  ┆ 1           │\n",
       "│ 8412         ┆       ┆       ┆ Plata Fresno ┆   ┆             ┆          ┆         ┆             │\n",
       "│ 66_EANVERNES ┆ 66    ┆ 8412  ┆ Tequila Ocho ┆ … ┆ 35.71       ┆ 6        ┆ 214.26  ┆ 1           │\n",
       "│ S_8412       ┆       ┆       ┆ Plata Fresno ┆   ┆             ┆          ┆         ┆             │\n",
       "│ 10_HORNSEY_8 ┆ 10    ┆ 8412  ┆ Tequila Ocho ┆ … ┆ 35.71       ┆ 6        ┆ 214.26  ┆ 1           │\n",
       "│ 412          ┆       ┆       ┆ Plata Fresno ┆   ┆             ┆          ┆         ┆             │\n",
       "└──────────────┴───────┴───────┴──────────────┴───┴─────────────┴──────────┴─────────┴─────────────┘"
      ]
     },
     "execution_count": 17,
     "metadata": {},
     "output_type": "execute_result"
    }
   ],
   "source": [
    "filter_purchase = purchase.filter(\n",
    "    pl.col('VendorNumber').is_in(vendor_list) |\n",
    "    pl.col('Brand').is_in(brand_list)\n",
    "    )\n",
    "filter_purchase.head(5)"
   ]
  },
  {
   "cell_type": "code",
   "execution_count": 18,
   "id": "c06d9ef6",
   "metadata": {},
   "outputs": [
    {
     "data": {
      "text/html": [
       "<div><style>\n",
       ".dataframe > thead > tr,\n",
       ".dataframe > tbody > tr {\n",
       "  text-align: right;\n",
       "  white-space: pre-wrap;\n",
       "}\n",
       "</style>\n",
       "<small>shape: (1, 10)</small><table border=\"1\" class=\"dataframe\"><thead><tr><th>VendorNumber</th><th>VendorName</th><th>InvoiceDate</th><th>PONumber</th><th>PODate</th><th>PayDate</th><th>Quantity</th><th>Dollars</th><th>Freight</th><th>Approval</th></tr><tr><td>i64</td><td>str</td><td>str</td><td>i64</td><td>str</td><td>str</td><td>i64</td><td>f64</td><td>f64</td><td>str</td></tr></thead><tbody><tr><td>90051</td><td>&quot;FULCHINO VINEYARD INC&nbsp;&nbsp;&nbsp;&nbsp;&nbsp;&nbsp;&quot;</td><td>&quot;2025-01-07&quot;</td><td>13557</td><td>&quot;2024-12-18&quot;</td><td>&quot;2025-02-10&quot;</td><td>59</td><td>724.22</td><td>3.84</td><td>null</td></tr></tbody></table></div>"
      ],
      "text/plain": [
       "shape: (1, 10)\n",
       "┌─────────────┬─────────────┬─────────────┬──────────┬───┬──────────┬─────────┬─────────┬──────────┐\n",
       "│ VendorNumbe ┆ VendorName  ┆ InvoiceDate ┆ PONumber ┆ … ┆ Quantity ┆ Dollars ┆ Freight ┆ Approval │\n",
       "│ r           ┆ ---         ┆ ---         ┆ ---      ┆   ┆ ---      ┆ ---     ┆ ---     ┆ ---      │\n",
       "│ ---         ┆ str         ┆ str         ┆ i64      ┆   ┆ i64      ┆ f64     ┆ f64     ┆ str      │\n",
       "│ i64         ┆             ┆             ┆          ┆   ┆          ┆         ┆         ┆          │\n",
       "╞═════════════╪═════════════╪═════════════╪══════════╪═══╪══════════╪═════════╪═════════╪══════════╡\n",
       "│ 90051       ┆ FULCHINO    ┆ 2025-01-07  ┆ 13557    ┆ … ┆ 59       ┆ 724.22  ┆ 3.84    ┆ null     │\n",
       "│             ┆ VINEYARD    ┆             ┆          ┆   ┆          ┆         ┆         ┆          │\n",
       "│             ┆ INC         ┆             ┆          ┆   ┆          ┆         ┆         ┆          │\n",
       "└─────────────┴─────────────┴─────────────┴──────────┴───┴──────────┴─────────┴─────────┴──────────┘"
      ]
     },
     "execution_count": 18,
     "metadata": {},
     "output_type": "execute_result"
    }
   ],
   "source": [
    "filter_invoice = vendor_invoice.filter(pl.col('PONumber') == 13557)\n",
    "filter_invoice"
   ]
  },
  {
   "cell_type": "code",
   "execution_count": 19,
   "id": "52d3a1d9",
   "metadata": {},
   "outputs": [
    {
     "data": {
      "text/html": [
       "<div><style>\n",
       ".dataframe > thead > tr,\n",
       ".dataframe > tbody > tr {\n",
       "  text-align: right;\n",
       "  white-space: pre-wrap;\n",
       "}\n",
       "</style>\n",
       "<small>shape: (1_021, 14)</small><table border=\"1\" class=\"dataframe\"><thead><tr><th>InventoryId</th><th>Store</th><th>Brand</th><th>Description</th><th>Size</th><th>SalesQuantity</th><th>SalesDollars</th><th>SalesPrice</th><th>SalesDate</th><th>Volume</th><th>Classification</th><th>ExciseTax</th><th>VendorNo</th><th>VendorName</th></tr><tr><td>str</td><td>i64</td><td>i64</td><td>str</td><td>str</td><td>i64</td><td>f64</td><td>f64</td><td>str</td><td>f64</td><td>i64</td><td>f64</td><td>i64</td><td>str</td></tr></thead><tbody><tr><td>&quot;1_HARDERSFIELD_60&quot;</td><td>1</td><td>60</td><td>&quot;Canadian Club 1858 VAP&quot;</td><td>&quot;750mL&quot;</td><td>1</td><td>10.99</td><td>10.99</td><td>&quot;2024-01-03&quot;</td><td>750.0</td><td>1</td><td>0.79</td><td>12546</td><td>&quot;JIM BEAM BRANDS COMPANY&nbsp;&nbsp;&nbsp;&nbsp;&quot;</td></tr><tr><td>&quot;1_HARDERSFIELD_60&quot;</td><td>1</td><td>60</td><td>&quot;Canadian Club 1858 VAP&quot;</td><td>&quot;750mL&quot;</td><td>2</td><td>21.98</td><td>10.99</td><td>&quot;2024-01-12&quot;</td><td>750.0</td><td>1</td><td>1.57</td><td>12546</td><td>&quot;JIM BEAM BRANDS COMPANY&nbsp;&nbsp;&nbsp;&nbsp;&quot;</td></tr><tr><td>&quot;1_HARDERSFIELD_60&quot;</td><td>1</td><td>60</td><td>&quot;Canadian Club 1858 VAP&quot;</td><td>&quot;750mL&quot;</td><td>1</td><td>10.99</td><td>10.99</td><td>&quot;2024-01-19&quot;</td><td>750.0</td><td>1</td><td>0.79</td><td>12546</td><td>&quot;JIM BEAM BRANDS COMPANY&nbsp;&nbsp;&nbsp;&nbsp;&quot;</td></tr><tr><td>&quot;1_HARDERSFIELD_60&quot;</td><td>1</td><td>60</td><td>&quot;Canadian Club 1858 VAP&quot;</td><td>&quot;750mL&quot;</td><td>1</td><td>10.99</td><td>10.99</td><td>&quot;2024-01-23&quot;</td><td>750.0</td><td>1</td><td>0.79</td><td>12546</td><td>&quot;JIM BEAM BRANDS COMPANY&nbsp;&nbsp;&nbsp;&nbsp;&quot;</td></tr><tr><td>&quot;1_HARDERSFIELD_60&quot;</td><td>1</td><td>60</td><td>&quot;Canadian Club 1858 VAP&quot;</td><td>&quot;750mL&quot;</td><td>2</td><td>21.98</td><td>10.99</td><td>&quot;2024-01-29&quot;</td><td>750.0</td><td>1</td><td>1.57</td><td>12546</td><td>&quot;JIM BEAM BRANDS COMPANY&nbsp;&nbsp;&nbsp;&nbsp;&quot;</td></tr><tr><td>&hellip;</td><td>&hellip;</td><td>&hellip;</td><td>&hellip;</td><td>&hellip;</td><td>&hellip;</td><td>&hellip;</td><td>&hellip;</td><td>&hellip;</td><td>&hellip;</td><td>&hellip;</td><td>&hellip;</td><td>&hellip;</td><td>&hellip;</td></tr><tr><td>&quot;81_PEMBROKE_60&quot;</td><td>81</td><td>60</td><td>&quot;Canadian Club 1858 VAP&quot;</td><td>&quot;750mL&quot;</td><td>18</td><td>197.82</td><td>10.99</td><td>&quot;2024-12-21&quot;</td><td>750.0</td><td>1</td><td>14.17</td><td>12546</td><td>&quot;JIM BEAM BRANDS COMPANY&nbsp;&nbsp;&nbsp;&nbsp;&quot;</td></tr><tr><td>&quot;8_ALNERWICK_60&quot;</td><td>8</td><td>60</td><td>&quot;Canadian Club 1858 VAP&quot;</td><td>&quot;750mL&quot;</td><td>2</td><td>19.98</td><td>9.99</td><td>&quot;2024-12-02&quot;</td><td>750.0</td><td>1</td><td>1.57</td><td>12546</td><td>&quot;JIM BEAM BRANDS COMPANY&nbsp;&nbsp;&nbsp;&nbsp;&quot;</td></tr><tr><td>&quot;8_ALNERWICK_60&quot;</td><td>8</td><td>60</td><td>&quot;Canadian Club 1858 VAP&quot;</td><td>&quot;750mL&quot;</td><td>1</td><td>9.99</td><td>9.99</td><td>&quot;2024-12-04&quot;</td><td>750.0</td><td>1</td><td>0.79</td><td>12546</td><td>&quot;JIM BEAM BRANDS COMPANY&nbsp;&nbsp;&nbsp;&nbsp;&quot;</td></tr><tr><td>&quot;8_ALNERWICK_60&quot;</td><td>8</td><td>60</td><td>&quot;Canadian Club 1858 VAP&quot;</td><td>&quot;750mL&quot;</td><td>1</td><td>10.99</td><td>10.99</td><td>&quot;2024-12-30&quot;</td><td>750.0</td><td>1</td><td>0.79</td><td>12546</td><td>&quot;JIM BEAM BRANDS COMPANY&nbsp;&nbsp;&nbsp;&nbsp;&quot;</td></tr><tr><td>&quot;8_ALNERWICK_60&quot;</td><td>8</td><td>60</td><td>&quot;Canadian Club 1858 VAP&quot;</td><td>&quot;750mL&quot;</td><td>1</td><td>10.99</td><td>10.99</td><td>&quot;2024-12-31&quot;</td><td>750.0</td><td>1</td><td>0.79</td><td>12546</td><td>&quot;JIM BEAM BRANDS COMPANY&nbsp;&nbsp;&nbsp;&nbsp;&quot;</td></tr></tbody></table></div>"
      ],
      "text/plain": [
       "shape: (1_021, 14)\n",
       "┌─────────────┬───────┬───────┬─────────────┬───┬─────────────┬───────────┬──────────┬─────────────┐\n",
       "│ InventoryId ┆ Store ┆ Brand ┆ Description ┆ … ┆ Classificat ┆ ExciseTax ┆ VendorNo ┆ VendorName  │\n",
       "│ ---         ┆ ---   ┆ ---   ┆ ---         ┆   ┆ ion         ┆ ---       ┆ ---      ┆ ---         │\n",
       "│ str         ┆ i64   ┆ i64   ┆ str         ┆   ┆ ---         ┆ f64       ┆ i64      ┆ str         │\n",
       "│             ┆       ┆       ┆             ┆   ┆ i64         ┆           ┆          ┆             │\n",
       "╞═════════════╪═══════╪═══════╪═════════════╪═══╪═════════════╪═══════════╪══════════╪═════════════╡\n",
       "│ 1_HARDERSFI ┆ 1     ┆ 60    ┆ Canadian    ┆ … ┆ 1           ┆ 0.79      ┆ 12546    ┆ JIM BEAM    │\n",
       "│ ELD_60      ┆       ┆       ┆ Club 1858   ┆   ┆             ┆           ┆          ┆ BRANDS      │\n",
       "│             ┆       ┆       ┆ VAP         ┆   ┆             ┆           ┆          ┆ COMPANY     │\n",
       "│ 1_HARDERSFI ┆ 1     ┆ 60    ┆ Canadian    ┆ … ┆ 1           ┆ 1.57      ┆ 12546    ┆ JIM BEAM    │\n",
       "│ ELD_60      ┆       ┆       ┆ Club 1858   ┆   ┆             ┆           ┆          ┆ BRANDS      │\n",
       "│             ┆       ┆       ┆ VAP         ┆   ┆             ┆           ┆          ┆ COMPANY     │\n",
       "│ 1_HARDERSFI ┆ 1     ┆ 60    ┆ Canadian    ┆ … ┆ 1           ┆ 0.79      ┆ 12546    ┆ JIM BEAM    │\n",
       "│ ELD_60      ┆       ┆       ┆ Club 1858   ┆   ┆             ┆           ┆          ┆ BRANDS      │\n",
       "│             ┆       ┆       ┆ VAP         ┆   ┆             ┆           ┆          ┆ COMPANY     │\n",
       "│ 1_HARDERSFI ┆ 1     ┆ 60    ┆ Canadian    ┆ … ┆ 1           ┆ 0.79      ┆ 12546    ┆ JIM BEAM    │\n",
       "│ ELD_60      ┆       ┆       ┆ Club 1858   ┆   ┆             ┆           ┆          ┆ BRANDS      │\n",
       "│             ┆       ┆       ┆ VAP         ┆   ┆             ┆           ┆          ┆ COMPANY     │\n",
       "│ 1_HARDERSFI ┆ 1     ┆ 60    ┆ Canadian    ┆ … ┆ 1           ┆ 1.57      ┆ 12546    ┆ JIM BEAM    │\n",
       "│ ELD_60      ┆       ┆       ┆ Club 1858   ┆   ┆             ┆           ┆          ┆ BRANDS      │\n",
       "│             ┆       ┆       ┆ VAP         ┆   ┆             ┆           ┆          ┆ COMPANY     │\n",
       "│ …           ┆ …     ┆ …     ┆ …           ┆ … ┆ …           ┆ …         ┆ …        ┆ …           │\n",
       "│ 81_PEMBROKE ┆ 81    ┆ 60    ┆ Canadian    ┆ … ┆ 1           ┆ 14.17     ┆ 12546    ┆ JIM BEAM    │\n",
       "│ _60         ┆       ┆       ┆ Club 1858   ┆   ┆             ┆           ┆          ┆ BRANDS      │\n",
       "│             ┆       ┆       ┆ VAP         ┆   ┆             ┆           ┆          ┆ COMPANY     │\n",
       "│ 8_ALNERWICK ┆ 8     ┆ 60    ┆ Canadian    ┆ … ┆ 1           ┆ 1.57      ┆ 12546    ┆ JIM BEAM    │\n",
       "│ _60         ┆       ┆       ┆ Club 1858   ┆   ┆             ┆           ┆          ┆ BRANDS      │\n",
       "│             ┆       ┆       ┆ VAP         ┆   ┆             ┆           ┆          ┆ COMPANY     │\n",
       "│ 8_ALNERWICK ┆ 8     ┆ 60    ┆ Canadian    ┆ … ┆ 1           ┆ 0.79      ┆ 12546    ┆ JIM BEAM    │\n",
       "│ _60         ┆       ┆       ┆ Club 1858   ┆   ┆             ┆           ┆          ┆ BRANDS      │\n",
       "│             ┆       ┆       ┆ VAP         ┆   ┆             ┆           ┆          ┆ COMPANY     │\n",
       "│ 8_ALNERWICK ┆ 8     ┆ 60    ┆ Canadian    ┆ … ┆ 1           ┆ 0.79      ┆ 12546    ┆ JIM BEAM    │\n",
       "│ _60         ┆       ┆       ┆ Club 1858   ┆   ┆             ┆           ┆          ┆ BRANDS      │\n",
       "│             ┆       ┆       ┆ VAP         ┆   ┆             ┆           ┆          ┆ COMPANY     │\n",
       "│ 8_ALNERWICK ┆ 8     ┆ 60    ┆ Canadian    ┆ … ┆ 1           ┆ 0.79      ┆ 12546    ┆ JIM BEAM    │\n",
       "│ _60         ┆       ┆       ┆ Club 1858   ┆   ┆             ┆           ┆          ┆ BRANDS      │\n",
       "│             ┆       ┆       ┆ VAP         ┆   ┆             ┆           ┆          ┆ COMPANY     │\n",
       "└─────────────┴───────┴───────┴─────────────┴───┴─────────────┴───────────┴──────────┴─────────────┘"
      ]
     },
     "execution_count": 19,
     "metadata": {},
     "output_type": "execute_result"
    }
   ],
   "source": [
    "filter_sales = sales.filter(pl.col('Brand').is_in(brand_list))\n",
    "filter_sales"
   ]
  },
  {
   "cell_type": "code",
   "execution_count": 20,
   "id": "afa679d6",
   "metadata": {},
   "outputs": [
    {
     "data": {
      "text/html": [
       "<div><style>\n",
       ".dataframe > thead > tr,\n",
       ".dataframe > tbody > tr {\n",
       "  text-align: right;\n",
       "  white-space: pre-wrap;\n",
       "}\n",
       "</style>\n",
       "<small>shape: (2_740, 9)</small><table border=\"1\" class=\"dataframe\"><thead><tr><th>InventoryId</th><th>Store</th><th>City</th><th>Brand</th><th>Description</th><th>Size</th><th>onHand</th><th>Price</th><th>startDate</th></tr><tr><td>str</td><td>i64</td><td>str</td><td>i64</td><td>str</td><td>str</td><td>i64</td><td>f64</td><td>str</td></tr></thead><tbody><tr><td>&quot;1_HARDERSFIELD_60&quot;</td><td>1</td><td>&quot;HARDERSFIELD&quot;</td><td>60</td><td>&quot;Canadian Club 1858 VAP&quot;</td><td>&quot;750mL&quot;</td><td>7</td><td>10.99</td><td>&quot;2024-01-01&quot;</td></tr><tr><td>&quot;2_ASHBORNE_60&quot;</td><td>2</td><td>&quot;ASHBORNE&quot;</td><td>60</td><td>&quot;Canadian Club 1858 VAP&quot;</td><td>&quot;750mL&quot;</td><td>5</td><td>10.99</td><td>&quot;2024-01-01&quot;</td></tr><tr><td>&quot;2_ASHBORNE_62&quot;</td><td>2</td><td>&quot;ASHBORNE&quot;</td><td>62</td><td>&quot;Herradura Silver Tequila&quot;</td><td>&quot;750mL&quot;</td><td>6</td><td>36.99</td><td>&quot;2024-01-01&quot;</td></tr><tr><td>&quot;2_ASHBORNE_63&quot;</td><td>2</td><td>&quot;ASHBORNE&quot;</td><td>63</td><td>&quot;Herradura Reposado Tequila&quot;</td><td>&quot;750mL&quot;</td><td>8</td><td>38.99</td><td>&quot;2024-01-01&quot;</td></tr><tr><td>&quot;2_ASHBORNE_72&quot;</td><td>2</td><td>&quot;ASHBORNE&quot;</td><td>72</td><td>&quot;No. 3 London Dry Gin&quot;</td><td>&quot;750mL&quot;</td><td>7</td><td>34.99</td><td>&quot;2024-01-01&quot;</td></tr><tr><td>&hellip;</td><td>&hellip;</td><td>&hellip;</td><td>&hellip;</td><td>&hellip;</td><td>&hellip;</td><td>&hellip;</td><td>&hellip;</td><td>&hellip;</td></tr><tr><td>&quot;74_PAENTMARWY_60&quot;</td><td>74</td><td>&quot;PAENTMARWY&quot;</td><td>60</td><td>&quot;Canadian Club 1858 VAP&quot;</td><td>&quot;750mL&quot;</td><td>4</td><td>10.99</td><td>&quot;2024-01-01&quot;</td></tr><tr><td>&quot;75_BARNCOMBE_60&quot;</td><td>75</td><td>&quot;BARNCOMBE&quot;</td><td>60</td><td>&quot;Canadian Club 1858 VAP&quot;</td><td>&quot;750mL&quot;</td><td>12</td><td>10.99</td><td>&quot;2024-01-01&quot;</td></tr><tr><td>&quot;76_DONCASTER_60&quot;</td><td>76</td><td>&quot;DONCASTER&quot;</td><td>60</td><td>&quot;Canadian Club 1858 VAP&quot;</td><td>&quot;750mL&quot;</td><td>65</td><td>10.99</td><td>&quot;2024-01-01&quot;</td></tr><tr><td>&quot;77_TAMWORTH_60&quot;</td><td>77</td><td>&quot;TAMWORTH&quot;</td><td>60</td><td>&quot;Canadian Club 1858 VAP&quot;</td><td>&quot;750mL&quot;</td><td>8</td><td>10.99</td><td>&quot;2024-01-01&quot;</td></tr><tr><td>&quot;78_EASTHAVEN_60&quot;</td><td>78</td><td>&quot;EASTHAVEN&quot;</td><td>60</td><td>&quot;Canadian Club 1858 VAP&quot;</td><td>&quot;750mL&quot;</td><td>0</td><td>10.99</td><td>&quot;2024-01-01&quot;</td></tr></tbody></table></div>"
      ],
      "text/plain": [
       "shape: (2_740, 9)\n",
       "┌───────────────────┬───────┬──────────────┬───────┬───┬───────┬────────┬───────┬────────────┐\n",
       "│ InventoryId       ┆ Store ┆ City         ┆ Brand ┆ … ┆ Size  ┆ onHand ┆ Price ┆ startDate  │\n",
       "│ ---               ┆ ---   ┆ ---          ┆ ---   ┆   ┆ ---   ┆ ---    ┆ ---   ┆ ---        │\n",
       "│ str               ┆ i64   ┆ str          ┆ i64   ┆   ┆ str   ┆ i64    ┆ f64   ┆ str        │\n",
       "╞═══════════════════╪═══════╪══════════════╪═══════╪═══╪═══════╪════════╪═══════╪════════════╡\n",
       "│ 1_HARDERSFIELD_60 ┆ 1     ┆ HARDERSFIELD ┆ 60    ┆ … ┆ 750mL ┆ 7      ┆ 10.99 ┆ 2024-01-01 │\n",
       "│ 2_ASHBORNE_60     ┆ 2     ┆ ASHBORNE     ┆ 60    ┆ … ┆ 750mL ┆ 5      ┆ 10.99 ┆ 2024-01-01 │\n",
       "│ 2_ASHBORNE_62     ┆ 2     ┆ ASHBORNE     ┆ 62    ┆ … ┆ 750mL ┆ 6      ┆ 36.99 ┆ 2024-01-01 │\n",
       "│ 2_ASHBORNE_63     ┆ 2     ┆ ASHBORNE     ┆ 63    ┆ … ┆ 750mL ┆ 8      ┆ 38.99 ┆ 2024-01-01 │\n",
       "│ 2_ASHBORNE_72     ┆ 2     ┆ ASHBORNE     ┆ 72    ┆ … ┆ 750mL ┆ 7      ┆ 34.99 ┆ 2024-01-01 │\n",
       "│ …                 ┆ …     ┆ …            ┆ …     ┆ … ┆ …     ┆ …      ┆ …     ┆ …          │\n",
       "│ 74_PAENTMARWY_60  ┆ 74    ┆ PAENTMARWY   ┆ 60    ┆ … ┆ 750mL ┆ 4      ┆ 10.99 ┆ 2024-01-01 │\n",
       "│ 75_BARNCOMBE_60   ┆ 75    ┆ BARNCOMBE    ┆ 60    ┆ … ┆ 750mL ┆ 12     ┆ 10.99 ┆ 2024-01-01 │\n",
       "│ 76_DONCASTER_60   ┆ 76    ┆ DONCASTER    ┆ 60    ┆ … ┆ 750mL ┆ 65     ┆ 10.99 ┆ 2024-01-01 │\n",
       "│ 77_TAMWORTH_60    ┆ 77    ┆ TAMWORTH     ┆ 60    ┆ … ┆ 750mL ┆ 8      ┆ 10.99 ┆ 2024-01-01 │\n",
       "│ 78_EASTHAVEN_60   ┆ 78    ┆ EASTHAVEN    ┆ 60    ┆ … ┆ 750mL ┆ 0      ┆ 10.99 ┆ 2024-01-01 │\n",
       "└───────────────────┴───────┴──────────────┴───────┴───┴───────┴────────┴───────┴────────────┘"
      ]
     },
     "execution_count": 20,
     "metadata": {},
     "output_type": "execute_result"
    }
   ],
   "source": [
    "store = [2]\n",
    "begin_inventory.filter(\n",
    "    pl.col('Brand').is_in(brand_list) |\n",
    "    pl.col('Store').is_in(store)\n",
    "    )"
   ]
  },
  {
   "cell_type": "code",
   "execution_count": 21,
   "id": "858a8be3",
   "metadata": {},
   "outputs": [
    {
     "data": {
      "text/html": [
       "<div><style>\n",
       ".dataframe > thead > tr,\n",
       ".dataframe > tbody > tr {\n",
       "  text-align: right;\n",
       "  white-space: pre-wrap;\n",
       "}\n",
       "</style>\n",
       "<small>shape: (2_734, 9)</small><table border=\"1\" class=\"dataframe\"><thead><tr><th>InventoryId</th><th>Store</th><th>City</th><th>Brand</th><th>Description</th><th>Size</th><th>onHand</th><th>Price</th><th>endDate</th></tr><tr><td>str</td><td>i64</td><td>str</td><td>i64</td><td>str</td><td>str</td><td>i64</td><td>f64</td><td>str</td></tr></thead><tbody><tr><td>&quot;2_ASHBORNE_60&quot;</td><td>2</td><td>&quot;ASHBORNE&quot;</td><td>60</td><td>&quot;Canadian Club 1858 VAP&quot;</td><td>&quot;750mL&quot;</td><td>1</td><td>10.99</td><td>&quot;2024-12-31&quot;</td></tr><tr><td>&quot;2_ASHBORNE_62&quot;</td><td>2</td><td>&quot;ASHBORNE&quot;</td><td>62</td><td>&quot;Herradura Silver Tequila&quot;</td><td>&quot;750mL&quot;</td><td>3</td><td>36.99</td><td>&quot;2024-12-31&quot;</td></tr><tr><td>&quot;2_ASHBORNE_63&quot;</td><td>2</td><td>&quot;ASHBORNE&quot;</td><td>63</td><td>&quot;Herradura Reposado Tequila&quot;</td><td>&quot;750mL&quot;</td><td>6</td><td>38.99</td><td>&quot;2024-12-31&quot;</td></tr><tr><td>&quot;2_ASHBORNE_77&quot;</td><td>2</td><td>&quot;ASHBORNE&quot;</td><td>77</td><td>&quot;Three Olives Espresso Vodka&quot;</td><td>&quot;750mL&quot;</td><td>46</td><td>14.99</td><td>&quot;2024-12-31&quot;</td></tr><tr><td>&quot;2_ASHBORNE_79&quot;</td><td>2</td><td>&quot;ASHBORNE&quot;</td><td>79</td><td>&quot;Three Olives Loopy Vodka&quot;</td><td>&quot;750mL&quot;</td><td>13</td><td>14.99</td><td>&quot;2024-12-31&quot;</td></tr><tr><td>&hellip;</td><td>&hellip;</td><td>&hellip;</td><td>&hellip;</td><td>&hellip;</td><td>&hellip;</td><td>&hellip;</td><td>&hellip;</td><td>&hellip;</td></tr><tr><td>&quot;64_CESTERFIELD_60&quot;</td><td>64</td><td>&quot;CESTERFIELD&quot;</td><td>60</td><td>&quot;Canadian Club 1858 VAP&quot;</td><td>&quot;750mL&quot;</td><td>2</td><td>10.99</td><td>&quot;2024-12-31&quot;</td></tr><tr><td>&quot;67_EANVERNESS_60&quot;</td><td>67</td><td>&quot;EANVERNESS&quot;</td><td>60</td><td>&quot;Canadian Club 1858 VAP&quot;</td><td>&quot;750mL&quot;</td><td>16</td><td>10.99</td><td>&quot;2024-12-31&quot;</td></tr><tr><td>&quot;70_KELD_60&quot;</td><td>70</td><td>&quot;KELD&quot;</td><td>60</td><td>&quot;Canadian Club 1858 VAP&quot;</td><td>&quot;750mL&quot;</td><td>1</td><td>10.99</td><td>&quot;2024-12-31&quot;</td></tr><tr><td>&quot;74_PAENTMARWY_60&quot;</td><td>74</td><td>&quot;PAENTMARWY&quot;</td><td>60</td><td>&quot;Canadian Club 1858 VAP&quot;</td><td>&quot;750mL&quot;</td><td>10</td><td>10.99</td><td>&quot;2024-12-31&quot;</td></tr><tr><td>&quot;76_DONCASTER_60&quot;</td><td>76</td><td>&quot;DONCASTER&quot;</td><td>60</td><td>&quot;Canadian Club 1858 VAP&quot;</td><td>&quot;750mL&quot;</td><td>23</td><td>10.99</td><td>&quot;2024-12-31&quot;</td></tr></tbody></table></div>"
      ],
      "text/plain": [
       "shape: (2_734, 9)\n",
       "┌───────────────────┬───────┬─────────────┬───────┬───┬───────┬────────┬───────┬────────────┐\n",
       "│ InventoryId       ┆ Store ┆ City        ┆ Brand ┆ … ┆ Size  ┆ onHand ┆ Price ┆ endDate    │\n",
       "│ ---               ┆ ---   ┆ ---         ┆ ---   ┆   ┆ ---   ┆ ---    ┆ ---   ┆ ---        │\n",
       "│ str               ┆ i64   ┆ str         ┆ i64   ┆   ┆ str   ┆ i64    ┆ f64   ┆ str        │\n",
       "╞═══════════════════╪═══════╪═════════════╪═══════╪═══╪═══════╪════════╪═══════╪════════════╡\n",
       "│ 2_ASHBORNE_60     ┆ 2     ┆ ASHBORNE    ┆ 60    ┆ … ┆ 750mL ┆ 1      ┆ 10.99 ┆ 2024-12-31 │\n",
       "│ 2_ASHBORNE_62     ┆ 2     ┆ ASHBORNE    ┆ 62    ┆ … ┆ 750mL ┆ 3      ┆ 36.99 ┆ 2024-12-31 │\n",
       "│ 2_ASHBORNE_63     ┆ 2     ┆ ASHBORNE    ┆ 63    ┆ … ┆ 750mL ┆ 6      ┆ 38.99 ┆ 2024-12-31 │\n",
       "│ 2_ASHBORNE_77     ┆ 2     ┆ ASHBORNE    ┆ 77    ┆ … ┆ 750mL ┆ 46     ┆ 14.99 ┆ 2024-12-31 │\n",
       "│ 2_ASHBORNE_79     ┆ 2     ┆ ASHBORNE    ┆ 79    ┆ … ┆ 750mL ┆ 13     ┆ 14.99 ┆ 2024-12-31 │\n",
       "│ …                 ┆ …     ┆ …           ┆ …     ┆ … ┆ …     ┆ …      ┆ …     ┆ …          │\n",
       "│ 64_CESTERFIELD_60 ┆ 64    ┆ CESTERFIELD ┆ 60    ┆ … ┆ 750mL ┆ 2      ┆ 10.99 ┆ 2024-12-31 │\n",
       "│ 67_EANVERNESS_60  ┆ 67    ┆ EANVERNESS  ┆ 60    ┆ … ┆ 750mL ┆ 16     ┆ 10.99 ┆ 2024-12-31 │\n",
       "│ 70_KELD_60        ┆ 70    ┆ KELD        ┆ 60    ┆ … ┆ 750mL ┆ 1      ┆ 10.99 ┆ 2024-12-31 │\n",
       "│ 74_PAENTMARWY_60  ┆ 74    ┆ PAENTMARWY  ┆ 60    ┆ … ┆ 750mL ┆ 10     ┆ 10.99 ┆ 2024-12-31 │\n",
       "│ 76_DONCASTER_60   ┆ 76    ┆ DONCASTER   ┆ 60    ┆ … ┆ 750mL ┆ 23     ┆ 10.99 ┆ 2024-12-31 │\n",
       "└───────────────────┴───────┴─────────────┴───────┴───┴───────┴────────┴───────┴────────────┘"
      ]
     },
     "execution_count": 21,
     "metadata": {},
     "output_type": "execute_result"
    }
   ],
   "source": [
    "end_inventory.filter(\n",
    "    pl.col('Brand').is_in(brand_list) |\n",
    "    pl.col('Store').is_in(store)\n",
    "    )"
   ]
  },
  {
   "cell_type": "code",
   "execution_count": 22,
   "id": "ad7c2623",
   "metadata": {},
   "outputs": [],
   "source": [
    "# Dimension - Brand - Purchase and Sales\n",
    "dim_brand_purchase_sales = (\n",
    "    pl.concat([\n",
    "        sales.select(pl.col('Brand')),\n",
    "        purchase.select(pl.col('Brand')),\n",
    "    ]).unique().with_row_index('Brand_ID', offset=1)\n",
    ")"
   ]
  },
  {
   "cell_type": "code",
   "execution_count": 23,
   "id": "30ad7fdd",
   "metadata": {},
   "outputs": [],
   "source": [
    "# Dimension - Vendor\n",
    "dim_vendor = (\n",
    "    pl.concat([\n",
    "        sales.select(pl.col('VendorNo').alias('VendorNumber')),\n",
    "        vendor_invoice.select(pl.col('VendorNumber')),\n",
    "        purchase.select(pl.col('VendorNumber')),\n",
    "        purchase_price.select(pl.col('VendorNumber'))\n",
    "    ]).unique().with_row_index('vendor_id', offset=1)\n",
    ")"
   ]
  },
  {
   "cell_type": "code",
   "execution_count": 24,
   "id": "bf86b28c",
   "metadata": {},
   "outputs": [],
   "source": [
    "# Dimension - Store\n",
    "dim_store = (\n",
    "    pl.concat([\n",
    "        sales.select(pl.col('Store')),\n",
    "        purchase.select(pl.col('Store')),\n",
    "        begin_inventory.select(pl.col('Store')),\n",
    "        end_inventory.select(pl.col('Store'))\n",
    "    ]).unique().with_row_index('store_id', offset=1)\n",
    ")"
   ]
  },
  {
   "cell_type": "code",
   "execution_count": 25,
   "id": "3631a9d7",
   "metadata": {},
   "outputs": [],
   "source": [
    "# Dimension - Inventory ID\n",
    "dim_inventory = (\n",
    "    pl.concat([\n",
    "        sales.select(pl.col('InventoryId')),\n",
    "        purchase.select(pl.col('InventoryId')),\n",
    "        begin_inventory.select(pl.col('InventoryId')),\n",
    "        end_inventory.select(pl.col('InventoryId'))\n",
    "    ]).unique().with_row_index('id', offset=1)\n",
    ")"
   ]
  },
  {
   "cell_type": "code",
   "execution_count": 26,
   "id": "94f94a8c",
   "metadata": {},
   "outputs": [],
   "source": [
    "# Dimension - Brand Inventory\n",
    "dim_brand_inventory = (\n",
    "    pl.concat([\n",
    "        begin_inventory.select(pl.col('Brand')),\n",
    "        end_inventory.select(pl.col('Brand'))\n",
    "    ]).unique().with_row_index('id', offset=1)\n",
    ")"
   ]
  },
  {
   "cell_type": "code",
   "execution_count": 27,
   "id": "6a7e4165",
   "metadata": {},
   "outputs": [
    {
     "name": "stdout",
     "output_type": "stream",
     "text": [
      "Unique count:  10759\n",
      "*******\n",
      "Duplicate count:  0\n"
     ]
    }
   ],
   "source": [
    "unique_value_count = dim_brand_inventory.select(pl.col(\"Brand\").n_unique().sum()).item()\n",
    "print('Unique count: ', unique_value_count)\n",
    "print(\"*******\")\n",
    "duplicate_count = dim_brand_inventory.select(pl.col(\"Brand\").is_duplicated().sum()).item()\n",
    "print('Duplicate count: ' ,duplicate_count)\n"
   ]
  },
  {
   "cell_type": "code",
   "execution_count": null,
   "id": "0f0f830b",
   "metadata": {},
   "outputs": [],
   "source": []
  }
 ],
 "metadata": {
  "kernelspec": {
   "display_name": "env",
   "language": "python",
   "name": "python3"
  },
  "language_info": {
   "codemirror_mode": {
    "name": "ipython",
    "version": 3
   },
   "file_extension": ".py",
   "mimetype": "text/x-python",
   "name": "python",
   "nbconvert_exporter": "python",
   "pygments_lexer": "ipython3",
   "version": "3.12.10"
  }
 },
 "nbformat": 4,
 "nbformat_minor": 5
}
